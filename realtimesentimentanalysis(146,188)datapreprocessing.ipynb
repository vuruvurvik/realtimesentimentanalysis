{
 "cells": [
  {
   "cell_type": "markdown",
   "metadata": {},
   "source": [
    "REAL-TIMESENTIMENT ANALYSIS(FER-2013) DATA ANALYSIS"
   ]
  },
  {
   "cell_type": "code",
   "execution_count": 59,
   "metadata": {},
   "outputs": [
    {
     "data": {
      "text/html": [
       "<div>\n",
       "<style scoped>\n",
       "    .dataframe tbody tr th:only-of-type {\n",
       "        vertical-align: middle;\n",
       "    }\n",
       "\n",
       "    .dataframe tbody tr th {\n",
       "        vertical-align: top;\n",
       "    }\n",
       "\n",
       "    .dataframe thead th {\n",
       "        text-align: right;\n",
       "    }\n",
       "</style>\n",
       "<table border=\"1\" class=\"dataframe\">\n",
       "  <thead>\n",
       "    <tr style=\"text-align: right;\">\n",
       "      <th></th>\n",
       "      <th>emotion</th>\n",
       "      <th>pixels</th>\n",
       "      <th>Usage</th>\n",
       "    </tr>\n",
       "  </thead>\n",
       "  <tbody>\n",
       "    <tr>\n",
       "      <th>0</th>\n",
       "      <td>0</td>\n",
       "      <td>70 80 82 72 58 58 60 63 54 58 60 48 89 115 121...</td>\n",
       "      <td>Training</td>\n",
       "    </tr>\n",
       "    <tr>\n",
       "      <th>1</th>\n",
       "      <td>0</td>\n",
       "      <td>151 150 147 155 148 133 111 140 170 174 182 15...</td>\n",
       "      <td>Training</td>\n",
       "    </tr>\n",
       "    <tr>\n",
       "      <th>2</th>\n",
       "      <td>2</td>\n",
       "      <td>231 212 156 164 174 138 161 173 182 200 106 38...</td>\n",
       "      <td>Training</td>\n",
       "    </tr>\n",
       "    <tr>\n",
       "      <th>3</th>\n",
       "      <td>4</td>\n",
       "      <td>24 32 36 30 32 23 19 20 30 41 21 22 32 34 21 1...</td>\n",
       "      <td>Training</td>\n",
       "    </tr>\n",
       "    <tr>\n",
       "      <th>4</th>\n",
       "      <td>6</td>\n",
       "      <td>4 0 0 0 0 0 0 0 0 0 0 0 3 15 23 28 48 50 58 84...</td>\n",
       "      <td>Training</td>\n",
       "    </tr>\n",
       "    <tr>\n",
       "      <th>...</th>\n",
       "      <td>...</td>\n",
       "      <td>...</td>\n",
       "      <td>...</td>\n",
       "    </tr>\n",
       "    <tr>\n",
       "      <th>35882</th>\n",
       "      <td>6</td>\n",
       "      <td>50 36 17 22 23 29 33 39 34 37 37 37 39 43 48 5...</td>\n",
       "      <td>PrivateTest</td>\n",
       "    </tr>\n",
       "    <tr>\n",
       "      <th>35883</th>\n",
       "      <td>3</td>\n",
       "      <td>178 174 172 173 181 188 191 194 196 199 200 20...</td>\n",
       "      <td>PrivateTest</td>\n",
       "    </tr>\n",
       "    <tr>\n",
       "      <th>35884</th>\n",
       "      <td>0</td>\n",
       "      <td>17 17 16 23 28 22 19 17 25 26 20 24 31 19 27 9...</td>\n",
       "      <td>PrivateTest</td>\n",
       "    </tr>\n",
       "    <tr>\n",
       "      <th>35885</th>\n",
       "      <td>3</td>\n",
       "      <td>30 28 28 29 31 30 42 68 79 81 77 67 67 71 63 6...</td>\n",
       "      <td>PrivateTest</td>\n",
       "    </tr>\n",
       "    <tr>\n",
       "      <th>35886</th>\n",
       "      <td>2</td>\n",
       "      <td>19 13 14 12 13 16 21 33 50 57 71 84 97 108 122...</td>\n",
       "      <td>PrivateTest</td>\n",
       "    </tr>\n",
       "  </tbody>\n",
       "</table>\n",
       "<p>35887 rows × 3 columns</p>\n",
       "</div>"
      ],
      "text/plain": [
       "       emotion                                             pixels        Usage\n",
       "0            0  70 80 82 72 58 58 60 63 54 58 60 48 89 115 121...     Training\n",
       "1            0  151 150 147 155 148 133 111 140 170 174 182 15...     Training\n",
       "2            2  231 212 156 164 174 138 161 173 182 200 106 38...     Training\n",
       "3            4  24 32 36 30 32 23 19 20 30 41 21 22 32 34 21 1...     Training\n",
       "4            6  4 0 0 0 0 0 0 0 0 0 0 0 3 15 23 28 48 50 58 84...     Training\n",
       "...        ...                                                ...          ...\n",
       "35882        6  50 36 17 22 23 29 33 39 34 37 37 37 39 43 48 5...  PrivateTest\n",
       "35883        3  178 174 172 173 181 188 191 194 196 199 200 20...  PrivateTest\n",
       "35884        0  17 17 16 23 28 22 19 17 25 26 20 24 31 19 27 9...  PrivateTest\n",
       "35885        3  30 28 28 29 31 30 42 68 79 81 77 67 67 71 63 6...  PrivateTest\n",
       "35886        2  19 13 14 12 13 16 21 33 50 57 71 84 97 108 122...  PrivateTest\n",
       "\n",
       "[35887 rows x 3 columns]"
      ]
     },
     "execution_count": 59,
     "metadata": {},
     "output_type": "execute_result"
    }
   ],
   "source": [
    "import pandas as pd\n",
    "import numpy as np\n",
    "df=pd.read_csv('fer2013.csv')\n",
    "df"
   ]
  },
  {
   "cell_type": "code",
   "execution_count": 60,
   "metadata": {},
   "outputs": [
    {
     "data": {
      "text/plain": [
       "emotion    0\n",
       "pixels     0\n",
       "Usage      0\n",
       "dtype: int64"
      ]
     },
     "execution_count": 60,
     "metadata": {},
     "output_type": "execute_result"
    }
   ],
   "source": [
    "df.isna().sum()"
   ]
  },
  {
   "cell_type": "code",
   "execution_count": 61,
   "metadata": {},
   "outputs": [],
   "source": [
    "df.drop('Usage',axis=1,inplace=True)"
   ]
  },
  {
   "cell_type": "code",
   "execution_count": 62,
   "metadata": {},
   "outputs": [
    {
     "data": {
      "text/html": [
       "<div>\n",
       "<style scoped>\n",
       "    .dataframe tbody tr th:only-of-type {\n",
       "        vertical-align: middle;\n",
       "    }\n",
       "\n",
       "    .dataframe tbody tr th {\n",
       "        vertical-align: top;\n",
       "    }\n",
       "\n",
       "    .dataframe thead th {\n",
       "        text-align: right;\n",
       "    }\n",
       "</style>\n",
       "<table border=\"1\" class=\"dataframe\">\n",
       "  <thead>\n",
       "    <tr style=\"text-align: right;\">\n",
       "      <th></th>\n",
       "      <th>emotion</th>\n",
       "      <th>pixels</th>\n",
       "    </tr>\n",
       "  </thead>\n",
       "  <tbody>\n",
       "    <tr>\n",
       "      <th>0</th>\n",
       "      <td>0</td>\n",
       "      <td>70 80 82 72 58 58 60 63 54 58 60 48 89 115 121...</td>\n",
       "    </tr>\n",
       "    <tr>\n",
       "      <th>1</th>\n",
       "      <td>0</td>\n",
       "      <td>151 150 147 155 148 133 111 140 170 174 182 15...</td>\n",
       "    </tr>\n",
       "    <tr>\n",
       "      <th>2</th>\n",
       "      <td>2</td>\n",
       "      <td>231 212 156 164 174 138 161 173 182 200 106 38...</td>\n",
       "    </tr>\n",
       "    <tr>\n",
       "      <th>3</th>\n",
       "      <td>4</td>\n",
       "      <td>24 32 36 30 32 23 19 20 30 41 21 22 32 34 21 1...</td>\n",
       "    </tr>\n",
       "    <tr>\n",
       "      <th>4</th>\n",
       "      <td>6</td>\n",
       "      <td>4 0 0 0 0 0 0 0 0 0 0 0 3 15 23 28 48 50 58 84...</td>\n",
       "    </tr>\n",
       "    <tr>\n",
       "      <th>...</th>\n",
       "      <td>...</td>\n",
       "      <td>...</td>\n",
       "    </tr>\n",
       "    <tr>\n",
       "      <th>35882</th>\n",
       "      <td>6</td>\n",
       "      <td>50 36 17 22 23 29 33 39 34 37 37 37 39 43 48 5...</td>\n",
       "    </tr>\n",
       "    <tr>\n",
       "      <th>35883</th>\n",
       "      <td>3</td>\n",
       "      <td>178 174 172 173 181 188 191 194 196 199 200 20...</td>\n",
       "    </tr>\n",
       "    <tr>\n",
       "      <th>35884</th>\n",
       "      <td>0</td>\n",
       "      <td>17 17 16 23 28 22 19 17 25 26 20 24 31 19 27 9...</td>\n",
       "    </tr>\n",
       "    <tr>\n",
       "      <th>35885</th>\n",
       "      <td>3</td>\n",
       "      <td>30 28 28 29 31 30 42 68 79 81 77 67 67 71 63 6...</td>\n",
       "    </tr>\n",
       "    <tr>\n",
       "      <th>35886</th>\n",
       "      <td>2</td>\n",
       "      <td>19 13 14 12 13 16 21 33 50 57 71 84 97 108 122...</td>\n",
       "    </tr>\n",
       "  </tbody>\n",
       "</table>\n",
       "<p>35887 rows × 2 columns</p>\n",
       "</div>"
      ],
      "text/plain": [
       "       emotion                                             pixels\n",
       "0            0  70 80 82 72 58 58 60 63 54 58 60 48 89 115 121...\n",
       "1            0  151 150 147 155 148 133 111 140 170 174 182 15...\n",
       "2            2  231 212 156 164 174 138 161 173 182 200 106 38...\n",
       "3            4  24 32 36 30 32 23 19 20 30 41 21 22 32 34 21 1...\n",
       "4            6  4 0 0 0 0 0 0 0 0 0 0 0 3 15 23 28 48 50 58 84...\n",
       "...        ...                                                ...\n",
       "35882        6  50 36 17 22 23 29 33 39 34 37 37 37 39 43 48 5...\n",
       "35883        3  178 174 172 173 181 188 191 194 196 199 200 20...\n",
       "35884        0  17 17 16 23 28 22 19 17 25 26 20 24 31 19 27 9...\n",
       "35885        3  30 28 28 29 31 30 42 68 79 81 77 67 67 71 63 6...\n",
       "35886        2  19 13 14 12 13 16 21 33 50 57 71 84 97 108 122...\n",
       "\n",
       "[35887 rows x 2 columns]"
      ]
     },
     "execution_count": 62,
     "metadata": {},
     "output_type": "execute_result"
    }
   ],
   "source": [
    "df"
   ]
  },
  {
   "cell_type": "code",
   "execution_count": 63,
   "metadata": {},
   "outputs": [
    {
     "data": {
      "text/html": [
       "<div>\n",
       "<style scoped>\n",
       "    .dataframe tbody tr th:only-of-type {\n",
       "        vertical-align: middle;\n",
       "    }\n",
       "\n",
       "    .dataframe tbody tr th {\n",
       "        vertical-align: top;\n",
       "    }\n",
       "\n",
       "    .dataframe thead th {\n",
       "        text-align: right;\n",
       "    }\n",
       "</style>\n",
       "<table border=\"1\" class=\"dataframe\">\n",
       "  <thead>\n",
       "    <tr style=\"text-align: right;\">\n",
       "      <th></th>\n",
       "      <th>emotion</th>\n",
       "      <th>pixels</th>\n",
       "    </tr>\n",
       "  </thead>\n",
       "  <tbody>\n",
       "    <tr>\n",
       "      <th>0</th>\n",
       "      <td>0</td>\n",
       "      <td>70 80 82 72 58 58 60 63 54 58 60 48 89 115 121...</td>\n",
       "    </tr>\n",
       "    <tr>\n",
       "      <th>1</th>\n",
       "      <td>0</td>\n",
       "      <td>151 150 147 155 148 133 111 140 170 174 182 15...</td>\n",
       "    </tr>\n",
       "    <tr>\n",
       "      <th>2</th>\n",
       "      <td>2</td>\n",
       "      <td>231 212 156 164 174 138 161 173 182 200 106 38...</td>\n",
       "    </tr>\n",
       "    <tr>\n",
       "      <th>3</th>\n",
       "      <td>4</td>\n",
       "      <td>24 32 36 30 32 23 19 20 30 41 21 22 32 34 21 1...</td>\n",
       "    </tr>\n",
       "    <tr>\n",
       "      <th>4</th>\n",
       "      <td>6</td>\n",
       "      <td>4 0 0 0 0 0 0 0 0 0 0 0 3 15 23 28 48 50 58 84...</td>\n",
       "    </tr>\n",
       "  </tbody>\n",
       "</table>\n",
       "</div>"
      ],
      "text/plain": [
       "   emotion                                             pixels\n",
       "0        0  70 80 82 72 58 58 60 63 54 58 60 48 89 115 121...\n",
       "1        0  151 150 147 155 148 133 111 140 170 174 182 15...\n",
       "2        2  231 212 156 164 174 138 161 173 182 200 106 38...\n",
       "3        4  24 32 36 30 32 23 19 20 30 41 21 22 32 34 21 1...\n",
       "4        6  4 0 0 0 0 0 0 0 0 0 0 0 3 15 23 28 48 50 58 84..."
      ]
     },
     "execution_count": 63,
     "metadata": {},
     "output_type": "execute_result"
    }
   ],
   "source": [
    "df.head()"
   ]
  },
  {
   "cell_type": "markdown",
   "metadata": {},
   "source": [
    "ADDING EMOTION_MAPPING TO THE FER2013 DATA"
   ]
  },
  {
   "cell_type": "code",
   "execution_count": 64,
   "metadata": {},
   "outputs": [
    {
     "data": {
      "text/html": [
       "<div>\n",
       "<style scoped>\n",
       "    .dataframe tbody tr th:only-of-type {\n",
       "        vertical-align: middle;\n",
       "    }\n",
       "\n",
       "    .dataframe tbody tr th {\n",
       "        vertical-align: top;\n",
       "    }\n",
       "\n",
       "    .dataframe thead th {\n",
       "        text-align: right;\n",
       "    }\n",
       "</style>\n",
       "<table border=\"1\" class=\"dataframe\">\n",
       "  <thead>\n",
       "    <tr style=\"text-align: right;\">\n",
       "      <th></th>\n",
       "      <th>emotion</th>\n",
       "      <th>pixels</th>\n",
       "      <th>emotion_label</th>\n",
       "    </tr>\n",
       "  </thead>\n",
       "  <tbody>\n",
       "    <tr>\n",
       "      <th>0</th>\n",
       "      <td>0</td>\n",
       "      <td>70 80 82 72 58 58 60 63 54 58 60 48 89 115 121...</td>\n",
       "      <td>anger</td>\n",
       "    </tr>\n",
       "    <tr>\n",
       "      <th>1</th>\n",
       "      <td>0</td>\n",
       "      <td>151 150 147 155 148 133 111 140 170 174 182 15...</td>\n",
       "      <td>anger</td>\n",
       "    </tr>\n",
       "    <tr>\n",
       "      <th>2</th>\n",
       "      <td>2</td>\n",
       "      <td>231 212 156 164 174 138 161 173 182 200 106 38...</td>\n",
       "      <td>fear</td>\n",
       "    </tr>\n",
       "    <tr>\n",
       "      <th>3</th>\n",
       "      <td>4</td>\n",
       "      <td>24 32 36 30 32 23 19 20 30 41 21 22 32 34 21 1...</td>\n",
       "      <td>sadness</td>\n",
       "    </tr>\n",
       "    <tr>\n",
       "      <th>4</th>\n",
       "      <td>6</td>\n",
       "      <td>4 0 0 0 0 0 0 0 0 0 0 0 3 15 23 28 48 50 58 84...</td>\n",
       "      <td>neutral</td>\n",
       "    </tr>\n",
       "    <tr>\n",
       "      <th>...</th>\n",
       "      <td>...</td>\n",
       "      <td>...</td>\n",
       "      <td>...</td>\n",
       "    </tr>\n",
       "    <tr>\n",
       "      <th>35882</th>\n",
       "      <td>6</td>\n",
       "      <td>50 36 17 22 23 29 33 39 34 37 37 37 39 43 48 5...</td>\n",
       "      <td>neutral</td>\n",
       "    </tr>\n",
       "    <tr>\n",
       "      <th>35883</th>\n",
       "      <td>3</td>\n",
       "      <td>178 174 172 173 181 188 191 194 196 199 200 20...</td>\n",
       "      <td>happiness</td>\n",
       "    </tr>\n",
       "    <tr>\n",
       "      <th>35884</th>\n",
       "      <td>0</td>\n",
       "      <td>17 17 16 23 28 22 19 17 25 26 20 24 31 19 27 9...</td>\n",
       "      <td>anger</td>\n",
       "    </tr>\n",
       "    <tr>\n",
       "      <th>35885</th>\n",
       "      <td>3</td>\n",
       "      <td>30 28 28 29 31 30 42 68 79 81 77 67 67 71 63 6...</td>\n",
       "      <td>happiness</td>\n",
       "    </tr>\n",
       "    <tr>\n",
       "      <th>35886</th>\n",
       "      <td>2</td>\n",
       "      <td>19 13 14 12 13 16 21 33 50 57 71 84 97 108 122...</td>\n",
       "      <td>fear</td>\n",
       "    </tr>\n",
       "  </tbody>\n",
       "</table>\n",
       "<p>35887 rows × 3 columns</p>\n",
       "</div>"
      ],
      "text/plain": [
       "       emotion                                             pixels  \\\n",
       "0            0  70 80 82 72 58 58 60 63 54 58 60 48 89 115 121...   \n",
       "1            0  151 150 147 155 148 133 111 140 170 174 182 15...   \n",
       "2            2  231 212 156 164 174 138 161 173 182 200 106 38...   \n",
       "3            4  24 32 36 30 32 23 19 20 30 41 21 22 32 34 21 1...   \n",
       "4            6  4 0 0 0 0 0 0 0 0 0 0 0 3 15 23 28 48 50 58 84...   \n",
       "...        ...                                                ...   \n",
       "35882        6  50 36 17 22 23 29 33 39 34 37 37 37 39 43 48 5...   \n",
       "35883        3  178 174 172 173 181 188 191 194 196 199 200 20...   \n",
       "35884        0  17 17 16 23 28 22 19 17 25 26 20 24 31 19 27 9...   \n",
       "35885        3  30 28 28 29 31 30 42 68 79 81 77 67 67 71 63 6...   \n",
       "35886        2  19 13 14 12 13 16 21 33 50 57 71 84 97 108 122...   \n",
       "\n",
       "      emotion_label  \n",
       "0             anger  \n",
       "1             anger  \n",
       "2              fear  \n",
       "3           sadness  \n",
       "4           neutral  \n",
       "...             ...  \n",
       "35882       neutral  \n",
       "35883     happiness  \n",
       "35884         anger  \n",
       "35885     happiness  \n",
       "35886          fear  \n",
       "\n",
       "[35887 rows x 3 columns]"
      ]
     },
     "execution_count": 64,
     "metadata": {},
     "output_type": "execute_result"
    }
   ],
   "source": [
    "emotion_mapping = {\n",
    "    0: 'anger',\n",
    "    1: 'disgust',\n",
    "    2: 'fear',\n",
    "    3: 'happiness',\n",
    "    4: 'sadness',\n",
    "    5: 'surprise',\n",
    "    6: 'neutral'\n",
    "}\n",
    "df['emotion_label'] = df['emotion'].map(emotion_mapping)\n",
    "df"
   ]
  },
  {
   "cell_type": "code",
   "execution_count": 65,
   "metadata": {},
   "outputs": [
    {
     "data": {
      "image/png": "[encoded data removed]",
      "text/plain": [
       "<Figure size 1000x600 with 1 Axes>"
      ]
     },
     "metadata": {},
     "output_type": "display_data"
    }
   ],
   "source": [
    "import matplotlib.pyplot as plt\n",
    "import seaborn as sns\n",
    "plt.figure(figsize=(10, 6))\n",
    "sns.countplot(data=df, x='emotion_label')\n",
    "plt.title('Count of Emotions')\n",
    "plt.xlabel('Emotion')\n",
    "plt.ylabel('Count')\n",
    "plt.show()"
   ]
  },
  {
   "cell_type": "markdown",
   "metadata": {},
   "source": [
    "RESHAPING THE DATA,AND APPLYING MIN MAX SCALER"
   ]
  },
  {
   "cell_type": "code",
   "execution_count": 66,
   "metadata": {},
   "outputs": [
    {
     "data": {
      "image/png": "[encoded data removed]",
      "text/plain": [
       "<Figure size 1500x300 with 5 Axes>"
      ]
     },
     "metadata": {},
     "output_type": "display_data"
    }
   ],
   "source": [
    "from sklearn.preprocessing import MinMaxScaler\n",
    "pixels = df['pixels'].apply(lambda x: np.array(x.split(), dtype='int32'))\n",
    "images = np.vstack(pixels).reshape(-1, 48, 48)\n",
    "scaler = MinMaxScaler()\n",
    "images_scaled = scaler.fit_transform(images.reshape(-1, 2304)).reshape(-1, 48, 48)\n",
    "fig, axes = plt.subplots(1, 5, figsize=(15, 3))\n",
    "for i, ax in enumerate(axes):\n",
    "    ax.imshow(images_scaled[i], cmap='gray')\n",
    "    ax.set_title(f'Image {i+1}')\n",
    "    ax.axis('off')\n",
    "plt.show()"
   ]
  },
  {
   "cell_type": "code",
   "execution_count": 67,
   "metadata": {},
   "outputs": [],
   "source": [
    "from sklearn.preprocessing import LabelEncoder\n",
    "label_encoder = LabelEncoder()\n",
    "y = label_encoder.fit_transform(df['emotion_label'])\n"
   ]
  },
  {
   "cell_type": "code",
   "execution_count": 68,
   "metadata": {},
   "outputs": [],
   "source": [
    "import numpy as np\n",
    "x = np.array(images_scaled).astype('float32')\n",
    "y = np.array(y).astype('float32')\n"
   ]
  },
  {
   "cell_type": "code",
   "execution_count": 69,
   "metadata": {},
   "outputs": [
    {
     "data": {
      "text/plain": [
       "array([0., 0., 2., ..., 0., 3., 2.], dtype=float32)"
      ]
     },
     "execution_count": 69,
     "metadata": {},
     "output_type": "execute_result"
    }
   ],
   "source": [
    "y"
   ]
  },
  {
   "cell_type": "code",
   "execution_count": 70,
   "metadata": {},
   "outputs": [
    {
     "data": {
      "text/plain": [
       "((28709, 48, 48), (28709,), (7178, 48, 48), (7178,))"
      ]
     },
     "execution_count": 70,
     "metadata": {},
     "output_type": "execute_result"
    }
   ],
   "source": [
    "from sklearn.model_selection import train_test_split,cross_val_score,GridSearchCV\n",
    "X_train, X_test, y_train, y_test = train_test_split(x, y, test_size=0.2, random_state=42)\n",
    "X_train.shape,y_train.shape,X_test.shape,y_test.shape"
   ]
  },
  {
   "cell_type": "code",
   "execution_count": 71,
   "metadata": {},
   "outputs": [
    {
     "data": {
      "text/plain": [
       "array([[[0.01568628, 0.01568628, 0.01568628, ..., 0.11372549,\n",
       "         0.1254902 , 0.12156863],\n",
       "        [0.03921569, 0.03529412, 0.02352941, ..., 0.4862745 ,\n",
       "         0.5294118 , 0.5294118 ],\n",
       "        [0.03529412, 0.03529412, 0.02745098, ..., 0.46666667,\n",
       "         0.5019608 , 0.5137255 ],\n",
       "        ...,\n",
       "        [0.45882353, 0.46666667, 0.49803922, ..., 0.02745098,\n",
       "         0.01568628, 0.01568628],\n",
       "        [0.05882353, 0.04705882, 0.08235294, ..., 0.01176471,\n",
       "         0.00784314, 0.01176471],\n",
       "        [0.00392157, 0.00392157, 0.        , ..., 0.01176471,\n",
       "         0.01176471, 0.01176471]],\n",
       "\n",
       "       [[0.11764706, 0.1254902 , 0.16078432, ..., 0.7137255 ,\n",
       "         0.63529414, 0.6117647 ],\n",
       "        [0.09411765, 0.14509805, 0.12156863, ..., 0.70980394,\n",
       "         0.627451  , 0.5921569 ],\n",
       "        [0.11372549, 0.12156863, 0.08235294, ..., 0.73333335,\n",
       "         0.627451  , 0.58431375],\n",
       "        ...,\n",
       "        [0.6745098 , 0.68235296, 0.4745098 , ..., 0.49411765,\n",
       "         0.43529412, 0.4627451 ],\n",
       "        [0.6666667 , 0.6666667 , 0.39215687, ..., 0.46666667,\n",
       "         0.46666667, 0.44705883],\n",
       "        [0.68235296, 0.6392157 , 0.36862746, ..., 0.42352942,\n",
       "         0.45490196, 0.4627451 ]],\n",
       "\n",
       "       [[0.9843137 , 0.9607843 , 0.8117647 , ..., 0.30588236,\n",
       "         0.3372549 , 0.36862746],\n",
       "        [0.9764706 , 0.83137256, 0.5529412 , ..., 0.29803923,\n",
       "         0.32941177, 0.35686275],\n",
       "        [0.8901961 , 0.62352943, 0.40392157, ..., 0.23529412,\n",
       "         0.29411766, 0.32941177],\n",
       "        ...,\n",
       "        [0.6431373 , 0.64705884, 0.65882355, ..., 0.32156864,\n",
       "         0.13333334, 0.01568628],\n",
       "        [0.6745098 , 0.63529414, 0.6431373 , ..., 0.2901961 ,\n",
       "         0.05098039, 0.02745098],\n",
       "        [0.67058825, 0.6313726 , 0.6313726 , ..., 0.24313726,\n",
       "         0.00784314, 0.04313726]],\n",
       "\n",
       "       ...,\n",
       "\n",
       "       [[0.38039216, 0.3647059 , 0.23921569, ..., 0.5803922 ,\n",
       "         0.5176471 , 0.5058824 ],\n",
       "        [0.41568628, 0.34901962, 0.25882354, ..., 0.627451  ,\n",
       "         0.5254902 , 0.5176471 ],\n",
       "        [0.30980393, 0.34509805, 0.27058825, ..., 0.654902  ,\n",
       "         0.57254905, 0.5137255 ],\n",
       "        ...,\n",
       "        [0.09019608, 0.01960784, 0.01960784, ..., 0.2627451 ,\n",
       "         0.42352942, 0.7294118 ],\n",
       "        [0.10588235, 0.03921569, 0.01568628, ..., 0.28235295,\n",
       "         0.4       , 0.72156864],\n",
       "        [0.05490196, 0.05882353, 0.01568628, ..., 0.32156864,\n",
       "         0.41568628, 0.63529414]],\n",
       "\n",
       "       [[0.99607843, 0.89411765, 0.84705883, ..., 0.6862745 ,\n",
       "         0.6392157 , 0.62352943],\n",
       "        [0.9607843 , 0.84313726, 0.8392157 , ..., 0.6666667 ,\n",
       "         0.6509804 , 0.6       ],\n",
       "        [0.90588236, 0.8156863 , 0.81960785, ..., 0.6392157 ,\n",
       "         0.6784314 , 0.5803922 ],\n",
       "        ...,\n",
       "        [0.8862745 , 0.8235294 , 0.8509804 , ..., 0.5764706 ,\n",
       "         0.75686276, 0.8       ],\n",
       "        [0.8392157 , 0.8392157 , 0.827451  , ..., 0.69803923,\n",
       "         0.7607843 , 0.80784315],\n",
       "        [0.8627451 , 0.8235294 , 0.85490197, ..., 0.74509805,\n",
       "         0.85490197, 0.8784314 ]],\n",
       "\n",
       "       [[0.46666667, 0.39607844, 0.07058824, ..., 0.00392157,\n",
       "         0.00392157, 0.00784314],\n",
       "        [0.48235294, 0.21176471, 0.        , ..., 0.00784314,\n",
       "         0.01960784, 0.00784314],\n",
       "        [0.36862746, 0.05882353, 0.        , ..., 0.        ,\n",
       "         0.01960784, 0.00392157],\n",
       "        ...,\n",
       "        [0.        , 0.        , 0.        , ..., 0.        ,\n",
       "         0.        , 0.        ],\n",
       "        [0.        , 0.        , 0.        , ..., 0.        ,\n",
       "         0.        , 0.        ],\n",
       "        [0.        , 0.        , 0.        , ..., 0.        ,\n",
       "         0.        , 0.        ]]], dtype=float32)"
      ]
     },
     "execution_count": 71,
     "metadata": {},
     "output_type": "execute_result"
    }
   ],
   "source": [
    "X_train"
   ]
  },
  {
   "cell_type": "markdown",
   "metadata": {},
   "source": [
    "OUTLIER DETECTION USING QUANTILE AND Z-SCORE"
   ]
  },
  {
   "cell_type": "code",
   "execution_count": 72,
   "metadata": {},
   "outputs": [
    {
     "data": {
      "text/html": [
       "<div>\n",
       "<style scoped>\n",
       "    .dataframe tbody tr th:only-of-type {\n",
       "        vertical-align: middle;\n",
       "    }\n",
       "\n",
       "    .dataframe tbody tr th {\n",
       "        vertical-align: top;\n",
       "    }\n",
       "\n",
       "    .dataframe thead th {\n",
       "        text-align: right;\n",
       "    }\n",
       "</style>\n",
       "<table border=\"1\" class=\"dataframe\">\n",
       "  <thead>\n",
       "    <tr style=\"text-align: right;\">\n",
       "      <th></th>\n",
       "      <th>emotion</th>\n",
       "    </tr>\n",
       "  </thead>\n",
       "  <tbody>\n",
       "    <tr>\n",
       "      <th>count</th>\n",
       "      <td>35887.000000</td>\n",
       "    </tr>\n",
       "    <tr>\n",
       "      <th>mean</th>\n",
       "      <td>3.323265</td>\n",
       "    </tr>\n",
       "    <tr>\n",
       "      <th>std</th>\n",
       "      <td>1.873819</td>\n",
       "    </tr>\n",
       "    <tr>\n",
       "      <th>min</th>\n",
       "      <td>0.000000</td>\n",
       "    </tr>\n",
       "    <tr>\n",
       "      <th>25%</th>\n",
       "      <td>2.000000</td>\n",
       "    </tr>\n",
       "    <tr>\n",
       "      <th>50%</th>\n",
       "      <td>3.000000</td>\n",
       "    </tr>\n",
       "    <tr>\n",
       "      <th>75%</th>\n",
       "      <td>5.000000</td>\n",
       "    </tr>\n",
       "    <tr>\n",
       "      <th>max</th>\n",
       "      <td>6.000000</td>\n",
       "    </tr>\n",
       "  </tbody>\n",
       "</table>\n",
       "</div>"
      ],
      "text/plain": [
       "            emotion\n",
       "count  35887.000000\n",
       "mean       3.323265\n",
       "std        1.873819\n",
       "min        0.000000\n",
       "25%        2.000000\n",
       "50%        3.000000\n",
       "75%        5.000000\n",
       "max        6.000000"
      ]
     },
     "execution_count": 72,
     "metadata": {},
     "output_type": "execute_result"
    }
   ],
   "source": [
    "df.describe()"
   ]
  },
  {
   "cell_type": "code",
   "execution_count": 73,
   "metadata": {},
   "outputs": [
    {
     "data": {
      "text/html": [
       "<div>\n",
       "<style scoped>\n",
       "    .dataframe tbody tr th:only-of-type {\n",
       "        vertical-align: middle;\n",
       "    }\n",
       "\n",
       "    .dataframe tbody tr th {\n",
       "        vertical-align: top;\n",
       "    }\n",
       "\n",
       "    .dataframe thead th {\n",
       "        text-align: right;\n",
       "    }\n",
       "</style>\n",
       "<table border=\"1\" class=\"dataframe\">\n",
       "  <thead>\n",
       "    <tr style=\"text-align: right;\">\n",
       "      <th></th>\n",
       "      <th>emotion</th>\n",
       "      <th>pixels</th>\n",
       "      <th>emotion_label</th>\n",
       "    </tr>\n",
       "  </thead>\n",
       "  <tbody>\n",
       "    <tr>\n",
       "      <th>4</th>\n",
       "      <td>6</td>\n",
       "      <td>4 0 0 0 0 0 0 0 0 0 0 0 3 15 23 28 48 50 58 84...</td>\n",
       "      <td>neutral</td>\n",
       "    </tr>\n",
       "    <tr>\n",
       "      <th>11</th>\n",
       "      <td>6</td>\n",
       "      <td>39 75 78 58 58 45 49 48 103 156 81 45 41 38 49...</td>\n",
       "      <td>neutral</td>\n",
       "    </tr>\n",
       "    <tr>\n",
       "      <th>12</th>\n",
       "      <td>6</td>\n",
       "      <td>219 213 206 202 209 217 216 215 219 218 223 23...</td>\n",
       "      <td>neutral</td>\n",
       "    </tr>\n",
       "    <tr>\n",
       "      <th>13</th>\n",
       "      <td>6</td>\n",
       "      <td>148 144 130 129 119 122 129 131 139 153 140 12...</td>\n",
       "      <td>neutral</td>\n",
       "    </tr>\n",
       "    <tr>\n",
       "      <th>15</th>\n",
       "      <td>5</td>\n",
       "      <td>107 107 109 109 109 109 110 101 123 140 144 14...</td>\n",
       "      <td>surprise</td>\n",
       "    </tr>\n",
       "    <tr>\n",
       "      <th>...</th>\n",
       "      <td>...</td>\n",
       "      <td>...</td>\n",
       "      <td>...</td>\n",
       "    </tr>\n",
       "    <tr>\n",
       "      <th>35874</th>\n",
       "      <td>5</td>\n",
       "      <td>43 43 51 73 94 97 102 95 99 107 126 144 154 17...</td>\n",
       "      <td>surprise</td>\n",
       "    </tr>\n",
       "    <tr>\n",
       "      <th>35875</th>\n",
       "      <td>5</td>\n",
       "      <td>248 251 239 144 102 95 82 77 91 138 153 145 14...</td>\n",
       "      <td>surprise</td>\n",
       "    </tr>\n",
       "    <tr>\n",
       "      <th>35876</th>\n",
       "      <td>6</td>\n",
       "      <td>29 29 27 31 49 56 29 19 22 20 34 43 55 71 85 9...</td>\n",
       "      <td>neutral</td>\n",
       "    </tr>\n",
       "    <tr>\n",
       "      <th>35877</th>\n",
       "      <td>6</td>\n",
       "      <td>139 143 145 154 159 168 176 181 190 191 195 19...</td>\n",
       "      <td>neutral</td>\n",
       "    </tr>\n",
       "    <tr>\n",
       "      <th>35882</th>\n",
       "      <td>6</td>\n",
       "      <td>50 36 17 22 23 29 33 39 34 37 37 37 39 43 48 5...</td>\n",
       "      <td>neutral</td>\n",
       "    </tr>\n",
       "  </tbody>\n",
       "</table>\n",
       "<p>10200 rows × 3 columns</p>\n",
       "</div>"
      ],
      "text/plain": [
       "       emotion                                             pixels  \\\n",
       "4            6  4 0 0 0 0 0 0 0 0 0 0 0 3 15 23 28 48 50 58 84...   \n",
       "11           6  39 75 78 58 58 45 49 48 103 156 81 45 41 38 49...   \n",
       "12           6  219 213 206 202 209 217 216 215 219 218 223 23...   \n",
       "13           6  148 144 130 129 119 122 129 131 139 153 140 12...   \n",
       "15           5  107 107 109 109 109 109 110 101 123 140 144 14...   \n",
       "...        ...                                                ...   \n",
       "35874        5  43 43 51 73 94 97 102 95 99 107 126 144 154 17...   \n",
       "35875        5  248 251 239 144 102 95 82 77 91 138 153 145 14...   \n",
       "35876        6  29 29 27 31 49 56 29 19 22 20 34 43 55 71 85 9...   \n",
       "35877        6  139 143 145 154 159 168 176 181 190 191 195 19...   \n",
       "35882        6  50 36 17 22 23 29 33 39 34 37 37 37 39 43 48 5...   \n",
       "\n",
       "      emotion_label  \n",
       "4           neutral  \n",
       "11          neutral  \n",
       "12          neutral  \n",
       "13          neutral  \n",
       "15         surprise  \n",
       "...             ...  \n",
       "35874      surprise  \n",
       "35875      surprise  \n",
       "35876       neutral  \n",
       "35877       neutral  \n",
       "35882       neutral  \n",
       "\n",
       "[10200 rows x 3 columns]"
      ]
     },
     "execution_count": 73,
     "metadata": {},
     "output_type": "execute_result"
    }
   ],
   "source": [
    "df[df.emotion>df.emotion.quantile(0.5990)]"
   ]
  },
  {
   "cell_type": "code",
   "execution_count": 74,
   "metadata": {},
   "outputs": [
    {
     "data": {
      "text/html": [
       "<div>\n",
       "<style scoped>\n",
       "    .dataframe tbody tr th:only-of-type {\n",
       "        vertical-align: middle;\n",
       "    }\n",
       "\n",
       "    .dataframe tbody tr th {\n",
       "        vertical-align: top;\n",
       "    }\n",
       "\n",
       "    .dataframe thead th {\n",
       "        text-align: right;\n",
       "    }\n",
       "</style>\n",
       "<table border=\"1\" class=\"dataframe\">\n",
       "  <thead>\n",
       "    <tr style=\"text-align: right;\">\n",
       "      <th></th>\n",
       "      <th>emotion</th>\n",
       "      <th>pixels</th>\n",
       "      <th>emotion_label</th>\n",
       "    </tr>\n",
       "  </thead>\n",
       "  <tbody>\n",
       "    <tr>\n",
       "      <th>0</th>\n",
       "      <td>0</td>\n",
       "      <td>70 80 82 72 58 58 60 63 54 58 60 48 89 115 121...</td>\n",
       "      <td>anger</td>\n",
       "    </tr>\n",
       "    <tr>\n",
       "      <th>1</th>\n",
       "      <td>0</td>\n",
       "      <td>151 150 147 155 148 133 111 140 170 174 182 15...</td>\n",
       "      <td>anger</td>\n",
       "    </tr>\n",
       "    <tr>\n",
       "      <th>10</th>\n",
       "      <td>0</td>\n",
       "      <td>30 24 21 23 25 25 49 67 84 103 120 125 130 139...</td>\n",
       "      <td>anger</td>\n",
       "    </tr>\n",
       "    <tr>\n",
       "      <th>22</th>\n",
       "      <td>0</td>\n",
       "      <td>123 125 124 142 209 226 234 236 231 232 235 22...</td>\n",
       "      <td>anger</td>\n",
       "    </tr>\n",
       "    <tr>\n",
       "      <th>23</th>\n",
       "      <td>0</td>\n",
       "      <td>8 9 14 21 26 32 37 46 52 62 72 70 71 73 76 83 ...</td>\n",
       "      <td>anger</td>\n",
       "    </tr>\n",
       "    <tr>\n",
       "      <th>...</th>\n",
       "      <td>...</td>\n",
       "      <td>...</td>\n",
       "      <td>...</td>\n",
       "    </tr>\n",
       "    <tr>\n",
       "      <th>35845</th>\n",
       "      <td>0</td>\n",
       "      <td>149 141 141 137 143 157 166 123 217 230 220 21...</td>\n",
       "      <td>anger</td>\n",
       "    </tr>\n",
       "    <tr>\n",
       "      <th>35849</th>\n",
       "      <td>0</td>\n",
       "      <td>90 82 42 36 33 45 81 112 122 139 155 149 152 1...</td>\n",
       "      <td>anger</td>\n",
       "    </tr>\n",
       "    <tr>\n",
       "      <th>35854</th>\n",
       "      <td>0</td>\n",
       "      <td>139 141 141 138 152 164 176 160 137 118 106 95...</td>\n",
       "      <td>anger</td>\n",
       "    </tr>\n",
       "    <tr>\n",
       "      <th>35881</th>\n",
       "      <td>0</td>\n",
       "      <td>181 177 176 156 178 144 136 132 122 107 131 16...</td>\n",
       "      <td>anger</td>\n",
       "    </tr>\n",
       "    <tr>\n",
       "      <th>35884</th>\n",
       "      <td>0</td>\n",
       "      <td>17 17 16 23 28 22 19 17 25 26 20 24 31 19 27 9...</td>\n",
       "      <td>anger</td>\n",
       "    </tr>\n",
       "  </tbody>\n",
       "</table>\n",
       "<p>5500 rows × 3 columns</p>\n",
       "</div>"
      ],
      "text/plain": [
       "       emotion                                             pixels  \\\n",
       "0            0  70 80 82 72 58 58 60 63 54 58 60 48 89 115 121...   \n",
       "1            0  151 150 147 155 148 133 111 140 170 174 182 15...   \n",
       "10           0  30 24 21 23 25 25 49 67 84 103 120 125 130 139...   \n",
       "22           0  123 125 124 142 209 226 234 236 231 232 235 22...   \n",
       "23           0  8 9 14 21 26 32 37 46 52 62 72 70 71 73 76 83 ...   \n",
       "...        ...                                                ...   \n",
       "35845        0  149 141 141 137 143 157 166 123 217 230 220 21...   \n",
       "35849        0  90 82 42 36 33 45 81 112 122 139 155 149 152 1...   \n",
       "35854        0  139 141 141 138 152 164 176 160 137 118 106 95...   \n",
       "35881        0  181 177 176 156 178 144 136 132 122 107 131 16...   \n",
       "35884        0  17 17 16 23 28 22 19 17 25 26 20 24 31 19 27 9...   \n",
       "\n",
       "      emotion_label  \n",
       "0             anger  \n",
       "1             anger  \n",
       "10            anger  \n",
       "22            anger  \n",
       "23            anger  \n",
       "...             ...  \n",
       "35845         anger  \n",
       "35849         anger  \n",
       "35854         anger  \n",
       "35881         anger  \n",
       "35884         anger  \n",
       "\n",
       "[5500 rows x 3 columns]"
      ]
     },
     "execution_count": 74,
     "metadata": {},
     "output_type": "execute_result"
    }
   ],
   "source": [
    "df[df.emotion<df.emotion.quantile(0.2)]"
   ]
  },
  {
   "cell_type": "code",
   "execution_count": 75,
   "metadata": {},
   "outputs": [
    {
     "data": {
      "text/plain": [
       "8.944720969849602"
      ]
     },
     "execution_count": 75,
     "metadata": {},
     "output_type": "execute_result"
    }
   ],
   "source": [
    "upper_limit=df.emotion.mean()+3*df.emotion.std()\n",
    "upper_limit"
   ]
  },
  {
   "cell_type": "code",
   "execution_count": 76,
   "metadata": {},
   "outputs": [
    {
     "data": {
      "text/plain": [
       "-2.298191585950139"
      ]
     },
     "execution_count": 76,
     "metadata": {},
     "output_type": "execute_result"
    }
   ],
   "source": [
    "lower_limit=df.emotion.mean()-3*df.emotion.std()\n",
    "lower_limit"
   ]
  },
  {
   "cell_type": "code",
   "execution_count": 77,
   "metadata": {},
   "outputs": [],
   "source": [
    "df=df[(df.emotion<upper_limit) & (df.emotion>lower_limit)]"
   ]
  },
  {
   "cell_type": "code",
   "execution_count": 78,
   "metadata": {},
   "outputs": [
    {
     "name": "stdout",
     "output_type": "stream",
     "text": [
      "            emotion\n",
      "count  35887.000000\n",
      "mean       3.323265\n",
      "std        1.873819\n",
      "min        0.000000\n",
      "25%        2.000000\n",
      "50%        3.000000\n",
      "75%        5.000000\n",
      "max        6.000000\n"
     ]
    }
   ],
   "source": [
    "print(df.describe())"
   ]
  },
  {
   "cell_type": "code",
   "execution_count": 79,
   "metadata": {},
   "outputs": [],
   "source": [
    "from  sklearn.ensemble import GradientBoostingClassifier\n",
    "from sklearn.metrics import accuracy_score,confusion_matrix,classification_report\n",
    "from sklearn.svm import SVC\n",
    "from sklearn.linear_model import LogisticRegression\n",
    "from sklearn .model_selection import RandomizedSearchCV\n"
   ]
  },
  {
   "cell_type": "code",
   "execution_count": 80,
   "metadata": {},
   "outputs": [
    {
     "name": "stdout",
     "output_type": "stream",
     "text": [
      "(28709, 48, 48)\n"
     ]
    }
   ],
   "source": [
    "print(X_train.shape)\n"
   ]
  },
  {
   "cell_type": "code",
   "execution_count": 44,
   "metadata": {},
   "outputs": [
    {
     "name": "stderr",
     "output_type": "stream",
     "text": [
      "c:\\Users\\91739\\AppData\\Local\\Programs\\Python\\Python37\\lib\\site-packages\\sklearn\\model_selection\\_search.py:296: UserWarning: The total space of parameters 18 is smaller than n_iter=20. Running 18 iterations. For exhaustive searches, use GridSearchCV.\n",
      "  UserWarning,\n"
     ]
    },
    {
     "name": "stdout",
     "output_type": "stream",
     "text": [
      "Fitting 5 folds for each of 18 candidates, totalling 90 fits\n",
      "[CV] END ..................C=0.1, gamma=scale, kernel=linear; total time=   0.6s\n",
      "[CV] END ..................C=0.1, gamma=scale, kernel=linear; total time=   0.6s\n",
      "[CV] END ..................C=0.1, gamma=scale, kernel=linear; total time=   0.5s\n",
      "[CV] END ..................C=0.1, gamma=scale, kernel=linear; total time=   0.5s\n",
      "[CV] END ..................C=0.1, gamma=scale, kernel=linear; total time=   0.5s\n",
      "[CV] END .....................C=0.1, gamma=scale, kernel=rbf; total time=   0.6s\n",
      "[CV] END .....................C=0.1, gamma=scale, kernel=rbf; total time=   0.7s\n",
      "[CV] END .....................C=0.1, gamma=scale, kernel=rbf; total time=   0.7s\n",
      "[CV] END .....................C=0.1, gamma=scale, kernel=rbf; total time=   0.6s\n",
      "[CV] END .....................C=0.1, gamma=scale, kernel=rbf; total time=   0.6s\n",
      "[CV] END ..................C=0.1, gamma=0.001, kernel=linear; total time=   0.5s\n",
      "[CV] END ..................C=0.1, gamma=0.001, kernel=linear; total time=   0.5s\n",
      "[CV] END ..................C=0.1, gamma=0.001, kernel=linear; total time=   0.5s\n",
      "[CV] END ..................C=0.1, gamma=0.001, kernel=linear; total time=   0.4s\n",
      "[CV] END ..................C=0.1, gamma=0.001, kernel=linear; total time=   0.5s\n",
      "[CV] END .....................C=0.1, gamma=0.001, kernel=rbf; total time=   0.6s\n",
      "[CV] END .....................C=0.1, gamma=0.001, kernel=rbf; total time=   0.6s\n",
      "[CV] END .....................C=0.1, gamma=0.001, kernel=rbf; total time=   0.6s\n",
      "[CV] END .....................C=0.1, gamma=0.001, kernel=rbf; total time=   0.6s\n",
      "[CV] END .....................C=0.1, gamma=0.001, kernel=rbf; total time=   0.6s\n",
      "[CV] END ...................C=0.1, gamma=0.01, kernel=linear; total time=   0.5s\n",
      "[CV] END ...................C=0.1, gamma=0.01, kernel=linear; total time=   0.5s\n",
      "[CV] END ...................C=0.1, gamma=0.01, kernel=linear; total time=   0.5s\n",
      "[CV] END ...................C=0.1, gamma=0.01, kernel=linear; total time=   0.5s\n",
      "[CV] END ...................C=0.1, gamma=0.01, kernel=linear; total time=   0.6s\n",
      "[CV] END ......................C=0.1, gamma=0.01, kernel=rbf; total time=   0.8s\n",
      "[CV] END ......................C=0.1, gamma=0.01, kernel=rbf; total time=   0.8s\n",
      "[CV] END ......................C=0.1, gamma=0.01, kernel=rbf; total time=   0.9s\n",
      "[CV] END ......................C=0.1, gamma=0.01, kernel=rbf; total time=   0.8s\n",
      "[CV] END ......................C=0.1, gamma=0.01, kernel=rbf; total time=   0.9s\n",
      "[CV] END ....................C=1, gamma=scale, kernel=linear; total time=   0.8s\n",
      "[CV] END ....................C=1, gamma=scale, kernel=linear; total time=   0.7s\n",
      "[CV] END ....................C=1, gamma=scale, kernel=linear; total time=   0.7s\n",
      "[CV] END ....................C=1, gamma=scale, kernel=linear; total time=   0.7s\n",
      "[CV] END ....................C=1, gamma=scale, kernel=linear; total time=   0.7s\n",
      "[CV] END .......................C=1, gamma=scale, kernel=rbf; total time=   0.8s\n",
      "[CV] END .......................C=1, gamma=scale, kernel=rbf; total time=   0.8s\n",
      "[CV] END .......................C=1, gamma=scale, kernel=rbf; total time=   0.8s\n",
      "[CV] END .......................C=1, gamma=scale, kernel=rbf; total time=   0.8s\n",
      "[CV] END .......................C=1, gamma=scale, kernel=rbf; total time=   0.9s\n",
      "[CV] END ....................C=1, gamma=0.001, kernel=linear; total time=   0.9s\n",
      "[CV] END ....................C=1, gamma=0.001, kernel=linear; total time=   0.8s\n",
      "[CV] END ....................C=1, gamma=0.001, kernel=linear; total time=   0.8s\n",
      "[CV] END ....................C=1, gamma=0.001, kernel=linear; total time=   0.8s\n",
      "[CV] END ....................C=1, gamma=0.001, kernel=linear; total time=   0.7s\n",
      "[CV] END .......................C=1, gamma=0.001, kernel=rbf; total time=   0.8s\n",
      "[CV] END .......................C=1, gamma=0.001, kernel=rbf; total time=   0.8s\n",
      "[CV] END .......................C=1, gamma=0.001, kernel=rbf; total time=   0.7s\n",
      "[CV] END .......................C=1, gamma=0.001, kernel=rbf; total time=   0.8s\n",
      "[CV] END .......................C=1, gamma=0.001, kernel=rbf; total time=   0.9s\n",
      "[CV] END .....................C=1, gamma=0.01, kernel=linear; total time=   0.9s\n",
      "[CV] END .....................C=1, gamma=0.01, kernel=linear; total time=   0.7s\n",
      "[CV] END .....................C=1, gamma=0.01, kernel=linear; total time=   0.8s\n",
      "[CV] END .....................C=1, gamma=0.01, kernel=linear; total time=   0.9s\n",
      "[CV] END .....................C=1, gamma=0.01, kernel=linear; total time=   0.8s\n",
      "[CV] END ........................C=1, gamma=0.01, kernel=rbf; total time=   0.8s\n",
      "[CV] END ........................C=1, gamma=0.01, kernel=rbf; total time=   1.0s\n",
      "[CV] END ........................C=1, gamma=0.01, kernel=rbf; total time=   1.0s\n",
      "[CV] END ........................C=1, gamma=0.01, kernel=rbf; total time=   0.9s\n",
      "[CV] END ........................C=1, gamma=0.01, kernel=rbf; total time=   1.0s\n",
      "[CV] END ...................C=10, gamma=scale, kernel=linear; total time=   1.0s\n",
      "[CV] END ...................C=10, gamma=scale, kernel=linear; total time=   0.9s\n",
      "[CV] END ...................C=10, gamma=scale, kernel=linear; total time=   0.8s\n",
      "[CV] END ...................C=10, gamma=scale, kernel=linear; total time=   0.7s\n",
      "[CV] END ...................C=10, gamma=scale, kernel=linear; total time=   0.7s\n",
      "[CV] END ......................C=10, gamma=scale, kernel=rbf; total time=   0.9s\n",
      "[CV] END ......................C=10, gamma=scale, kernel=rbf; total time=   0.9s\n",
      "[CV] END ......................C=10, gamma=scale, kernel=rbf; total time=   0.9s\n",
      "[CV] END ......................C=10, gamma=scale, kernel=rbf; total time=   0.9s\n",
      "[CV] END ......................C=10, gamma=scale, kernel=rbf; total time=   0.9s\n",
      "[CV] END ...................C=10, gamma=0.001, kernel=linear; total time=   0.7s\n",
      "[CV] END ...................C=10, gamma=0.001, kernel=linear; total time=   0.7s\n",
      "[CV] END ...................C=10, gamma=0.001, kernel=linear; total time=   0.7s\n",
      "[CV] END ...................C=10, gamma=0.001, kernel=linear; total time=   0.7s\n",
      "[CV] END ...................C=10, gamma=0.001, kernel=linear; total time=   0.7s\n",
      "[CV] END ......................C=10, gamma=0.001, kernel=rbf; total time=   0.7s\n",
      "[CV] END ......................C=10, gamma=0.001, kernel=rbf; total time=   0.7s\n",
      "[CV] END ......................C=10, gamma=0.001, kernel=rbf; total time=   0.8s\n",
      "[CV] END ......................C=10, gamma=0.001, kernel=rbf; total time=   0.8s\n",
      "[CV] END ......................C=10, gamma=0.001, kernel=rbf; total time=   0.9s\n",
      "[CV] END ....................C=10, gamma=0.01, kernel=linear; total time=   0.9s\n",
      "[CV] END ....................C=10, gamma=0.01, kernel=linear; total time=   0.9s\n",
      "[CV] END ....................C=10, gamma=0.01, kernel=linear; total time=   1.0s\n",
      "[CV] END ....................C=10, gamma=0.01, kernel=linear; total time=   1.4s\n",
      "[CV] END ....................C=10, gamma=0.01, kernel=linear; total time=   1.8s\n",
      "[CV] END .......................C=10, gamma=0.01, kernel=rbf; total time=   2.9s\n",
      "[CV] END .......................C=10, gamma=0.01, kernel=rbf; total time=   3.0s\n",
      "[CV] END .......................C=10, gamma=0.01, kernel=rbf; total time=   3.1s\n",
      "[CV] END .......................C=10, gamma=0.01, kernel=rbf; total time=   2.9s\n",
      "[CV] END .......................C=10, gamma=0.01, kernel=rbf; total time=   3.0s\n",
      "Best Parameters for SVC: {'kernel': 'rbf', 'gamma': 0.001, 'C': 10}\n",
      "Best Score: 0.331\n"
     ]
    }
   ],
   "source": [
    "svc = SVC()\n",
    "\n",
    "# Parameter grid\n",
    "param_grid_svc = {\n",
    "    'C': [0.1, 1, 10],\n",
    "    'kernel': ['linear', 'rbf'],\n",
    "    'gamma': ['scale', 0.001, 0.01]\n",
    "}\n",
    "\n",
    "# Set up RandomizedSearchCV\n",
    "random_search_svc = RandomizedSearchCV(\n",
    "    estimator=svc,\n",
    "    param_distributions=param_grid_svc,\n",
    "    n_iter=20,\n",
    "    scoring='accuracy',\n",
    "    cv=5,\n",
    "    verbose=2,\n",
    "    random_state=42,\n",
    "    n_jobs=1  # Use a single worker\n",
    ")\n",
    "# Use only a portion of the training data\n",
    "X_train_small = X_train[:1000]\n",
    "y_train_small = y_train[:1000]\n",
    "X_train_small1=X_train_small.reshape(X_train_small.shape[0], -1)  # Reshape to (28709, 2304)\n",
    "\n",
    "random_search_svc.fit(X_train_small1, y_train_small)\n",
    "\n",
    "# Best parameters and accuracy\n",
    "print(\"Best Parameters for SVC:\", random_search_svc.best_params_)\n",
    "print(\"Best Score:\", random_search_svc.best_score_)"
   ]
  },
  {
   "cell_type": "code",
   "execution_count": 45,
   "metadata": {},
   "outputs": [
    {
     "name": "stdout",
     "output_type": "stream",
     "text": [
      "Fitting 5 folds for each of 20 candidates, totalling 100 fits\n",
      "[CV] END learning_rate=0.5, max_depth=7, min_samples_split=10, n_estimators=100, subsample=0.8; total time=13.1min\n",
      "[CV] END learning_rate=0.5, max_depth=7, min_samples_split=10, n_estimators=100, subsample=0.8; total time=12.2min\n",
      "[CV] END learning_rate=0.5, max_depth=7, min_samples_split=10, n_estimators=100, subsample=0.8; total time=13.2min\n",
      "[CV] END learning_rate=0.5, max_depth=7, min_samples_split=10, n_estimators=100, subsample=0.8; total time=12.5min\n"
     ]
    },
    {
     "ename": "KeyboardInterrupt",
     "evalue": "",
     "output_type": "error",
     "traceback": [
      "\u001b[1;31m---------------------------------------------------------------------------\u001b[0m",
      "\u001b[1;31mKeyboardInterrupt\u001b[0m                         Traceback (most recent call last)",
      "\u001b[1;32m~\\AppData\\Local\\Temp\\ipykernel_23792\\2329957545.py\u001b[0m in \u001b[0;36m<module>\u001b[1;34m\u001b[0m\n\u001b[0;32m     28\u001b[0m \u001b[1;33m\u001b[0m\u001b[0m\n\u001b[0;32m     29\u001b[0m \u001b[1;31m# Fit the RandomizedSearchCV with the data\u001b[0m\u001b[1;33m\u001b[0m\u001b[1;33m\u001b[0m\u001b[1;33m\u001b[0m\u001b[0m\n\u001b[1;32m---> 30\u001b[1;33m \u001b[0mrandom_search_gbc\u001b[0m\u001b[1;33m.\u001b[0m\u001b[0mfit\u001b[0m\u001b[1;33m(\u001b[0m\u001b[0mX_train_small1\u001b[0m\u001b[1;33m,\u001b[0m \u001b[0my_train_small\u001b[0m\u001b[1;33m)\u001b[0m\u001b[1;33m\u001b[0m\u001b[1;33m\u001b[0m\u001b[0m\n\u001b[0m\u001b[0;32m     31\u001b[0m \u001b[1;33m\u001b[0m\u001b[0m\n\u001b[0;32m     32\u001b[0m \u001b[1;31m# Best parameters and accuracy\u001b[0m\u001b[1;33m\u001b[0m\u001b[1;33m\u001b[0m\u001b[1;33m\u001b[0m\u001b[0m\n",
      "\u001b[1;32mc:\\Users\\91739\\AppData\\Local\\Programs\\Python\\Python37\\lib\\site-packages\\sklearn\\model_selection\\_search.py\u001b[0m in \u001b[0;36mfit\u001b[1;34m(self, X, y, groups, **fit_params)\u001b[0m\n\u001b[0;32m    889\u001b[0m                 \u001b[1;32mreturn\u001b[0m \u001b[0mresults\u001b[0m\u001b[1;33m\u001b[0m\u001b[1;33m\u001b[0m\u001b[0m\n\u001b[0;32m    890\u001b[0m \u001b[1;33m\u001b[0m\u001b[0m\n\u001b[1;32m--> 891\u001b[1;33m             \u001b[0mself\u001b[0m\u001b[1;33m.\u001b[0m\u001b[0m_run_search\u001b[0m\u001b[1;33m(\u001b[0m\u001b[0mevaluate_candidates\u001b[0m\u001b[1;33m)\u001b[0m\u001b[1;33m\u001b[0m\u001b[1;33m\u001b[0m\u001b[0m\n\u001b[0m\u001b[0;32m    892\u001b[0m \u001b[1;33m\u001b[0m\u001b[0m\n\u001b[0;32m    893\u001b[0m             \u001b[1;31m# multimetric is determined here because in the case of a callable\u001b[0m\u001b[1;33m\u001b[0m\u001b[1;33m\u001b[0m\u001b[1;33m\u001b[0m\u001b[0m\n",
      "\u001b[1;32mc:\\Users\\91739\\AppData\\Local\\Programs\\Python\\Python37\\lib\\site-packages\\sklearn\\model_selection\\_search.py\u001b[0m in \u001b[0;36m_run_search\u001b[1;34m(self, evaluate_candidates)\u001b[0m\n\u001b[0;32m   1766\u001b[0m         evaluate_candidates(\n\u001b[0;32m   1767\u001b[0m             ParameterSampler(\n\u001b[1;32m-> 1768\u001b[1;33m                 \u001b[0mself\u001b[0m\u001b[1;33m.\u001b[0m\u001b[0mparam_distributions\u001b[0m\u001b[1;33m,\u001b[0m \u001b[0mself\u001b[0m\u001b[1;33m.\u001b[0m\u001b[0mn_iter\u001b[0m\u001b[1;33m,\u001b[0m \u001b[0mrandom_state\u001b[0m\u001b[1;33m=\u001b[0m\u001b[0mself\u001b[0m\u001b[1;33m.\u001b[0m\u001b[0mrandom_state\u001b[0m\u001b[1;33m\u001b[0m\u001b[1;33m\u001b[0m\u001b[0m\n\u001b[0m\u001b[0;32m   1769\u001b[0m             )\n\u001b[0;32m   1770\u001b[0m         )\n",
      "\u001b[1;32mc:\\Users\\91739\\AppData\\Local\\Programs\\Python\\Python37\\lib\\site-packages\\sklearn\\model_selection\\_search.py\u001b[0m in \u001b[0;36mevaluate_candidates\u001b[1;34m(candidate_params, cv, more_results)\u001b[0m\n\u001b[0;32m    849\u001b[0m                     )\n\u001b[0;32m    850\u001b[0m                     for (cand_idx, parameters), (split_idx, (train, test)) in product(\n\u001b[1;32m--> 851\u001b[1;33m                         \u001b[0menumerate\u001b[0m\u001b[1;33m(\u001b[0m\u001b[0mcandidate_params\u001b[0m\u001b[1;33m)\u001b[0m\u001b[1;33m,\u001b[0m \u001b[0menumerate\u001b[0m\u001b[1;33m(\u001b[0m\u001b[0mcv\u001b[0m\u001b[1;33m.\u001b[0m\u001b[0msplit\u001b[0m\u001b[1;33m(\u001b[0m\u001b[0mX\u001b[0m\u001b[1;33m,\u001b[0m \u001b[0my\u001b[0m\u001b[1;33m,\u001b[0m \u001b[0mgroups\u001b[0m\u001b[1;33m)\u001b[0m\u001b[1;33m)\u001b[0m\u001b[1;33m\u001b[0m\u001b[1;33m\u001b[0m\u001b[0m\n\u001b[0m\u001b[0;32m    852\u001b[0m                     )\n\u001b[0;32m    853\u001b[0m                 )\n",
      "\u001b[1;32mc:\\Users\\91739\\AppData\\Local\\Programs\\Python\\Python37\\lib\\site-packages\\joblib\\parallel.py\u001b[0m in \u001b[0;36m__call__\u001b[1;34m(self, iterable)\u001b[0m\n\u001b[0;32m   1861\u001b[0m             \u001b[0moutput\u001b[0m \u001b[1;33m=\u001b[0m \u001b[0mself\u001b[0m\u001b[1;33m.\u001b[0m\u001b[0m_get_sequential_output\u001b[0m\u001b[1;33m(\u001b[0m\u001b[0miterable\u001b[0m\u001b[1;33m)\u001b[0m\u001b[1;33m\u001b[0m\u001b[1;33m\u001b[0m\u001b[0m\n\u001b[0;32m   1862\u001b[0m             \u001b[0mnext\u001b[0m\u001b[1;33m(\u001b[0m\u001b[0moutput\u001b[0m\u001b[1;33m)\u001b[0m\u001b[1;33m\u001b[0m\u001b[1;33m\u001b[0m\u001b[0m\n\u001b[1;32m-> 1863\u001b[1;33m             \u001b[1;32mreturn\u001b[0m \u001b[0moutput\u001b[0m \u001b[1;32mif\u001b[0m \u001b[0mself\u001b[0m\u001b[1;33m.\u001b[0m\u001b[0mreturn_generator\u001b[0m \u001b[1;32melse\u001b[0m \u001b[0mlist\u001b[0m\u001b[1;33m(\u001b[0m\u001b[0moutput\u001b[0m\u001b[1;33m)\u001b[0m\u001b[1;33m\u001b[0m\u001b[1;33m\u001b[0m\u001b[0m\n\u001b[0m\u001b[0;32m   1864\u001b[0m \u001b[1;33m\u001b[0m\u001b[0m\n\u001b[0;32m   1865\u001b[0m         \u001b[1;31m# Let's create an ID that uniquely identifies the current call. If the\u001b[0m\u001b[1;33m\u001b[0m\u001b[1;33m\u001b[0m\u001b[1;33m\u001b[0m\u001b[0m\n",
      "\u001b[1;32mc:\\Users\\91739\\AppData\\Local\\Programs\\Python\\Python37\\lib\\site-packages\\joblib\\parallel.py\u001b[0m in \u001b[0;36m_get_sequential_output\u001b[1;34m(self, iterable)\u001b[0m\n\u001b[0;32m   1790\u001b[0m                 \u001b[0mself\u001b[0m\u001b[1;33m.\u001b[0m\u001b[0mn_dispatched_batches\u001b[0m \u001b[1;33m+=\u001b[0m \u001b[1;36m1\u001b[0m\u001b[1;33m\u001b[0m\u001b[1;33m\u001b[0m\u001b[0m\n\u001b[0;32m   1791\u001b[0m                 \u001b[0mself\u001b[0m\u001b[1;33m.\u001b[0m\u001b[0mn_dispatched_tasks\u001b[0m \u001b[1;33m+=\u001b[0m \u001b[1;36m1\u001b[0m\u001b[1;33m\u001b[0m\u001b[1;33m\u001b[0m\u001b[0m\n\u001b[1;32m-> 1792\u001b[1;33m                 \u001b[0mres\u001b[0m \u001b[1;33m=\u001b[0m \u001b[0mfunc\u001b[0m\u001b[1;33m(\u001b[0m\u001b[1;33m*\u001b[0m\u001b[0margs\u001b[0m\u001b[1;33m,\u001b[0m \u001b[1;33m**\u001b[0m\u001b[0mkwargs\u001b[0m\u001b[1;33m)\u001b[0m\u001b[1;33m\u001b[0m\u001b[1;33m\u001b[0m\u001b[0m\n\u001b[0m\u001b[0;32m   1793\u001b[0m                 \u001b[0mself\u001b[0m\u001b[1;33m.\u001b[0m\u001b[0mn_completed_tasks\u001b[0m \u001b[1;33m+=\u001b[0m \u001b[1;36m1\u001b[0m\u001b[1;33m\u001b[0m\u001b[1;33m\u001b[0m\u001b[0m\n\u001b[0;32m   1794\u001b[0m                 \u001b[0mself\u001b[0m\u001b[1;33m.\u001b[0m\u001b[0mprint_progress\u001b[0m\u001b[1;33m(\u001b[0m\u001b[1;33m)\u001b[0m\u001b[1;33m\u001b[0m\u001b[1;33m\u001b[0m\u001b[0m\n",
      "\u001b[1;32mc:\\Users\\91739\\AppData\\Local\\Programs\\Python\\Python37\\lib\\site-packages\\sklearn\\utils\\fixes.py\u001b[0m in \u001b[0;36m__call__\u001b[1;34m(self, *args, **kwargs)\u001b[0m\n\u001b[0;32m    214\u001b[0m     \u001b[1;32mdef\u001b[0m \u001b[0m__call__\u001b[0m\u001b[1;33m(\u001b[0m\u001b[0mself\u001b[0m\u001b[1;33m,\u001b[0m \u001b[1;33m*\u001b[0m\u001b[0margs\u001b[0m\u001b[1;33m,\u001b[0m \u001b[1;33m**\u001b[0m\u001b[0mkwargs\u001b[0m\u001b[1;33m)\u001b[0m\u001b[1;33m:\u001b[0m\u001b[1;33m\u001b[0m\u001b[1;33m\u001b[0m\u001b[0m\n\u001b[0;32m    215\u001b[0m         \u001b[1;32mwith\u001b[0m \u001b[0mconfig_context\u001b[0m\u001b[1;33m(\u001b[0m\u001b[1;33m**\u001b[0m\u001b[0mself\u001b[0m\u001b[1;33m.\u001b[0m\u001b[0mconfig\u001b[0m\u001b[1;33m)\u001b[0m\u001b[1;33m:\u001b[0m\u001b[1;33m\u001b[0m\u001b[1;33m\u001b[0m\u001b[0m\n\u001b[1;32m--> 216\u001b[1;33m             \u001b[1;32mreturn\u001b[0m \u001b[0mself\u001b[0m\u001b[1;33m.\u001b[0m\u001b[0mfunction\u001b[0m\u001b[1;33m(\u001b[0m\u001b[1;33m*\u001b[0m\u001b[0margs\u001b[0m\u001b[1;33m,\u001b[0m \u001b[1;33m**\u001b[0m\u001b[0mkwargs\u001b[0m\u001b[1;33m)\u001b[0m\u001b[1;33m\u001b[0m\u001b[1;33m\u001b[0m\u001b[0m\n\u001b[0m\u001b[0;32m    217\u001b[0m \u001b[1;33m\u001b[0m\u001b[0m\n\u001b[0;32m    218\u001b[0m \u001b[1;33m\u001b[0m\u001b[0m\n",
      "\u001b[1;32mc:\\Users\\91739\\AppData\\Local\\Programs\\Python\\Python37\\lib\\site-packages\\sklearn\\model_selection\\_validation.py\u001b[0m in \u001b[0;36m_fit_and_score\u001b[1;34m(estimator, X, y, scorer, train, test, verbose, parameters, fit_params, return_train_score, return_parameters, return_n_test_samples, return_times, return_estimator, split_progress, candidate_progress, error_score)\u001b[0m\n\u001b[0;32m    678\u001b[0m             \u001b[0mestimator\u001b[0m\u001b[1;33m.\u001b[0m\u001b[0mfit\u001b[0m\u001b[1;33m(\u001b[0m\u001b[0mX_train\u001b[0m\u001b[1;33m,\u001b[0m \u001b[1;33m**\u001b[0m\u001b[0mfit_params\u001b[0m\u001b[1;33m)\u001b[0m\u001b[1;33m\u001b[0m\u001b[1;33m\u001b[0m\u001b[0m\n\u001b[0;32m    679\u001b[0m         \u001b[1;32melse\u001b[0m\u001b[1;33m:\u001b[0m\u001b[1;33m\u001b[0m\u001b[1;33m\u001b[0m\u001b[0m\n\u001b[1;32m--> 680\u001b[1;33m             \u001b[0mestimator\u001b[0m\u001b[1;33m.\u001b[0m\u001b[0mfit\u001b[0m\u001b[1;33m(\u001b[0m\u001b[0mX_train\u001b[0m\u001b[1;33m,\u001b[0m \u001b[0my_train\u001b[0m\u001b[1;33m,\u001b[0m \u001b[1;33m**\u001b[0m\u001b[0mfit_params\u001b[0m\u001b[1;33m)\u001b[0m\u001b[1;33m\u001b[0m\u001b[1;33m\u001b[0m\u001b[0m\n\u001b[0m\u001b[0;32m    681\u001b[0m \u001b[1;33m\u001b[0m\u001b[0m\n\u001b[0;32m    682\u001b[0m     \u001b[1;32mexcept\u001b[0m \u001b[0mException\u001b[0m\u001b[1;33m:\u001b[0m\u001b[1;33m\u001b[0m\u001b[1;33m\u001b[0m\u001b[0m\n",
      "\u001b[1;32mc:\\Users\\91739\\AppData\\Local\\Programs\\Python\\Python37\\lib\\site-packages\\sklearn\\ensemble\\_gb.py\u001b[0m in \u001b[0;36mfit\u001b[1;34m(self, X, y, sample_weight, monitor)\u001b[0m\n\u001b[0;32m    594\u001b[0m             \u001b[0msample_weight_val\u001b[0m\u001b[1;33m,\u001b[0m\u001b[1;33m\u001b[0m\u001b[1;33m\u001b[0m\u001b[0m\n\u001b[0;32m    595\u001b[0m             \u001b[0mbegin_at_stage\u001b[0m\u001b[1;33m,\u001b[0m\u001b[1;33m\u001b[0m\u001b[1;33m\u001b[0m\u001b[0m\n\u001b[1;32m--> 596\u001b[1;33m             \u001b[0mmonitor\u001b[0m\u001b[1;33m,\u001b[0m\u001b[1;33m\u001b[0m\u001b[1;33m\u001b[0m\u001b[0m\n\u001b[0m\u001b[0;32m    597\u001b[0m         )\n\u001b[0;32m    598\u001b[0m \u001b[1;33m\u001b[0m\u001b[0m\n",
      "\u001b[1;32mc:\\Users\\91739\\AppData\\Local\\Programs\\Python\\Python37\\lib\\site-packages\\sklearn\\ensemble\\_gb.py\u001b[0m in \u001b[0;36m_fit_stages\u001b[1;34m(self, X, y, raw_predictions, sample_weight, random_state, X_val, y_val, sample_weight_val, begin_at_stage, monitor)\u001b[0m\n\u001b[0;32m    670\u001b[0m                 \u001b[0mrandom_state\u001b[0m\u001b[1;33m,\u001b[0m\u001b[1;33m\u001b[0m\u001b[1;33m\u001b[0m\u001b[0m\n\u001b[0;32m    671\u001b[0m                 \u001b[0mX_csc\u001b[0m\u001b[1;33m,\u001b[0m\u001b[1;33m\u001b[0m\u001b[1;33m\u001b[0m\u001b[0m\n\u001b[1;32m--> 672\u001b[1;33m                 \u001b[0mX_csr\u001b[0m\u001b[1;33m,\u001b[0m\u001b[1;33m\u001b[0m\u001b[1;33m\u001b[0m\u001b[0m\n\u001b[0m\u001b[0;32m    673\u001b[0m             )\n\u001b[0;32m    674\u001b[0m \u001b[1;33m\u001b[0m\u001b[0m\n",
      "\u001b[1;32mc:\\Users\\91739\\AppData\\Local\\Programs\\Python\\Python37\\lib\\site-packages\\sklearn\\ensemble\\_gb.py\u001b[0m in \u001b[0;36m_fit_stage\u001b[1;34m(self, i, X, y, raw_predictions, sample_weight, sample_mask, random_state, X_csc, X_csr)\u001b[0m\n\u001b[0;32m    244\u001b[0m \u001b[1;33m\u001b[0m\u001b[0m\n\u001b[0;32m    245\u001b[0m             \u001b[0mX\u001b[0m \u001b[1;33m=\u001b[0m \u001b[0mX_csr\u001b[0m \u001b[1;32mif\u001b[0m \u001b[0mX_csr\u001b[0m \u001b[1;32mis\u001b[0m \u001b[1;32mnot\u001b[0m \u001b[1;32mNone\u001b[0m \u001b[1;32melse\u001b[0m \u001b[0mX\u001b[0m\u001b[1;33m\u001b[0m\u001b[1;33m\u001b[0m\u001b[0m\n\u001b[1;32m--> 246\u001b[1;33m             \u001b[0mtree\u001b[0m\u001b[1;33m.\u001b[0m\u001b[0mfit\u001b[0m\u001b[1;33m(\u001b[0m\u001b[0mX\u001b[0m\u001b[1;33m,\u001b[0m \u001b[0mresidual\u001b[0m\u001b[1;33m,\u001b[0m \u001b[0msample_weight\u001b[0m\u001b[1;33m=\u001b[0m\u001b[0msample_weight\u001b[0m\u001b[1;33m,\u001b[0m \u001b[0mcheck_input\u001b[0m\u001b[1;33m=\u001b[0m\u001b[1;32mFalse\u001b[0m\u001b[1;33m)\u001b[0m\u001b[1;33m\u001b[0m\u001b[1;33m\u001b[0m\u001b[0m\n\u001b[0m\u001b[0;32m    247\u001b[0m \u001b[1;33m\u001b[0m\u001b[0m\n\u001b[0;32m    248\u001b[0m             \u001b[1;31m# update tree leaves\u001b[0m\u001b[1;33m\u001b[0m\u001b[1;33m\u001b[0m\u001b[1;33m\u001b[0m\u001b[0m\n",
      "\u001b[1;32mc:\\Users\\91739\\AppData\\Local\\Programs\\Python\\Python37\\lib\\site-packages\\sklearn\\tree\\_classes.py\u001b[0m in \u001b[0;36mfit\u001b[1;34m(self, X, y, sample_weight, check_input, X_idx_sorted)\u001b[0m\n\u001b[0;32m   1318\u001b[0m             \u001b[0msample_weight\u001b[0m\u001b[1;33m=\u001b[0m\u001b[0msample_weight\u001b[0m\u001b[1;33m,\u001b[0m\u001b[1;33m\u001b[0m\u001b[1;33m\u001b[0m\u001b[0m\n\u001b[0;32m   1319\u001b[0m             \u001b[0mcheck_input\u001b[0m\u001b[1;33m=\u001b[0m\u001b[0mcheck_input\u001b[0m\u001b[1;33m,\u001b[0m\u001b[1;33m\u001b[0m\u001b[1;33m\u001b[0m\u001b[0m\n\u001b[1;32m-> 1320\u001b[1;33m             \u001b[0mX_idx_sorted\u001b[0m\u001b[1;33m=\u001b[0m\u001b[0mX_idx_sorted\u001b[0m\u001b[1;33m,\u001b[0m\u001b[1;33m\u001b[0m\u001b[1;33m\u001b[0m\u001b[0m\n\u001b[0m\u001b[0;32m   1321\u001b[0m         )\n\u001b[0;32m   1322\u001b[0m         \u001b[1;32mreturn\u001b[0m \u001b[0mself\u001b[0m\u001b[1;33m\u001b[0m\u001b[1;33m\u001b[0m\u001b[0m\n",
      "\u001b[1;32mc:\\Users\\91739\\AppData\\Local\\Programs\\Python\\Python37\\lib\\site-packages\\sklearn\\tree\\_classes.py\u001b[0m in \u001b[0;36mfit\u001b[1;34m(self, X, y, sample_weight, check_input, X_idx_sorted)\u001b[0m\n\u001b[0;32m    418\u001b[0m             )\n\u001b[0;32m    419\u001b[0m \u001b[1;33m\u001b[0m\u001b[0m\n\u001b[1;32m--> 420\u001b[1;33m         \u001b[0mbuilder\u001b[0m\u001b[1;33m.\u001b[0m\u001b[0mbuild\u001b[0m\u001b[1;33m(\u001b[0m\u001b[0mself\u001b[0m\u001b[1;33m.\u001b[0m\u001b[0mtree_\u001b[0m\u001b[1;33m,\u001b[0m \u001b[0mX\u001b[0m\u001b[1;33m,\u001b[0m \u001b[0my\u001b[0m\u001b[1;33m,\u001b[0m \u001b[0msample_weight\u001b[0m\u001b[1;33m)\u001b[0m\u001b[1;33m\u001b[0m\u001b[1;33m\u001b[0m\u001b[0m\n\u001b[0m\u001b[0;32m    421\u001b[0m \u001b[1;33m\u001b[0m\u001b[0m\n\u001b[0;32m    422\u001b[0m         \u001b[1;32mif\u001b[0m \u001b[0mself\u001b[0m\u001b[1;33m.\u001b[0m\u001b[0mn_outputs_\u001b[0m \u001b[1;33m==\u001b[0m \u001b[1;36m1\u001b[0m \u001b[1;32mand\u001b[0m \u001b[0mis_classifier\u001b[0m\u001b[1;33m(\u001b[0m\u001b[0mself\u001b[0m\u001b[1;33m)\u001b[0m\u001b[1;33m:\u001b[0m\u001b[1;33m\u001b[0m\u001b[1;33m\u001b[0m\u001b[0m\n",
      "\u001b[1;31mKeyboardInterrupt\u001b[0m: "
     ]
    }
   ],
   "source": [
    "gbc = GradientBoostingClassifier()\n",
    "\n",
    "# Parameter grid for GradientBoostingClassifier\n",
    "param_grid_gbc = {\n",
    "    'n_estimators': [50, 100, 150],\n",
    "    'learning_rate': [0.01, 0.1, 0.5],\n",
    "    'max_depth': [3, 5, 7],\n",
    "    'min_samples_split': [2, 5, 10],\n",
    "    'subsample': [0.8, 1.0]\n",
    "}\n",
    "\n",
    "# Set up RandomizedSearchCV\n",
    "random_search_gbc = RandomizedSearchCV(\n",
    "    estimator=gbc,\n",
    "    param_distributions=param_grid_gbc,\n",
    "    n_iter=20,\n",
    "    scoring='accuracy',\n",
    "    cv=5,\n",
    "    verbose=2,\n",
    "    random_state=42,\n",
    "    n_jobs=1  # Use a single worker\n",
    ")\n",
    "\n",
    "# Use only a portion of the training data\n",
    "X_train_small = X_train[:1000]\n",
    "y_train_small = y_train[:1000]\n",
    "X_train_small1 = X_train_small.reshape(X_train_small.shape[0], -1)  # Reshape to (1000, 2304)\n",
    "\n",
    "# Fit the RandomizedSearchCV with the data\n",
    "random_search_gbc.fit(X_train_small1, y_train_small)\n",
    "\n",
    "# Best parameters and accuracy\n",
    "print(\"Best Parameters for GradientBoosting:\", random_search_gbc.best_params_)\n",
    "print(\"Best Score for GradientBoosting:\", random_search_gbc.best_score_)"
   ]
  },
  {
   "cell_type": "code",
   "execution_count": 81,
   "metadata": {},
   "outputs": [
    {
     "name": "stdout",
     "output_type": "stream",
     "text": [
      "Model: \"sequential_5\"\n",
      "_________________________________________________________________\n",
      " Layer (type)                Output Shape              Param #   \n",
      "=================================================================\n",
      " conv2d_15 (Conv2D)          (None, 46, 46, 32)        320       \n",
      "                                                                 \n",
      " batch_normalization_20 (Bat  (None, 46, 46, 32)       128       \n",
      " chNormalization)                                                \n",
      "                                                                 \n",
      " max_pooling2d_15 (MaxPoolin  (None, 23, 23, 32)       0         \n",
      " g2D)                                                            \n",
      "                                                                 \n",
      " dropout_20 (Dropout)        (None, 23, 23, 32)        0         \n",
      "                                                                 \n",
      " conv2d_16 (Conv2D)          (None, 21, 21, 64)        18496     \n",
      "                                                                 \n",
      " batch_normalization_21 (Bat  (None, 21, 21, 64)       256       \n",
      " chNormalization)                                                \n",
      "                                                                 \n",
      " max_pooling2d_16 (MaxPoolin  (None, 10, 10, 64)       0         \n",
      " g2D)                                                            \n",
      "                                                                 \n",
      " dropout_21 (Dropout)        (None, 10, 10, 64)        0         \n",
      "                                                                 \n",
      " conv2d_17 (Conv2D)          (None, 8, 8, 128)         73856     \n",
      "                                                                 \n",
      " batch_normalization_22 (Bat  (None, 8, 8, 128)        512       \n",
      " chNormalization)                                                \n",
      "                                                                 \n",
      " max_pooling2d_17 (MaxPoolin  (None, 4, 4, 128)        0         \n",
      " g2D)                                                            \n",
      "                                                                 \n",
      " dropout_22 (Dropout)        (None, 4, 4, 128)         0         \n",
      "                                                                 \n",
      " flatten_5 (Flatten)         (None, 2048)              0         \n",
      "                                                                 \n",
      " dense_10 (Dense)            (None, 128)               262272    \n",
      "                                                                 \n",
      " batch_normalization_23 (Bat  (None, 128)              512       \n",
      " chNormalization)                                                \n",
      "                                                                 \n",
      " dropout_23 (Dropout)        (None, 128)               0         \n",
      "                                                                 \n",
      " dense_11 (Dense)            (None, 7)                 903       \n",
      "                                                                 \n",
      "=================================================================\n",
      "Total params: 357,255\n",
      "Trainable params: 356,551\n",
      "Non-trainable params: 704\n",
      "_________________________________________________________________\n",
      "Epoch 1/25\n",
      "449/449 [==============================] - 155s 343ms/step - loss: 1.9642 - accuracy: 0.3185 - val_loss: 1.8257 - val_accuracy: 0.3075\n",
      "Epoch 2/25\n",
      "449/449 [==============================] - 243s 542ms/step - loss: 1.5027 - accuracy: 0.4270 - val_loss: 1.4116 - val_accuracy: 0.4572\n",
      "Epoch 3/25\n",
      "449/449 [==============================] - 351s 782ms/step - loss: 1.3964 - accuracy: 0.4668 - val_loss: 1.3227 - val_accuracy: 0.4869\n",
      "Epoch 4/25\n",
      "449/449 [==============================] - 105s 234ms/step - loss: 1.3338 - accuracy: 0.4906 - val_loss: 1.3034 - val_accuracy: 0.4979\n",
      "Epoch 5/25\n",
      "449/449 [==============================] - 94s 209ms/step - loss: 1.2918 - accuracy: 0.5084 - val_loss: 1.2741 - val_accuracy: 0.5187\n",
      "Epoch 6/25\n",
      "449/449 [==============================] - 82s 182ms/step - loss: 1.2579 - accuracy: 0.5239 - val_loss: 1.3711 - val_accuracy: 0.4798\n",
      "Epoch 7/25\n",
      "449/449 [==============================] - 85s 189ms/step - loss: 1.2284 - accuracy: 0.5351 - val_loss: 1.1884 - val_accuracy: 0.5598\n",
      "Epoch 8/25\n",
      "449/449 [==============================] - 116s 259ms/step - loss: 1.2121 - accuracy: 0.5402 - val_loss: 1.2489 - val_accuracy: 0.5191\n",
      "Epoch 9/25\n",
      "449/449 [==============================] - 105s 235ms/step - loss: 1.1843 - accuracy: 0.5514 - val_loss: 1.2044 - val_accuracy: 0.5449\n",
      "Epoch 10/25\n",
      "449/449 [==============================] - 114s 253ms/step - loss: 1.1684 - accuracy: 0.5566 - val_loss: 1.1427 - val_accuracy: 0.5722\n",
      "Epoch 11/25\n",
      "449/449 [==============================] - 255s 568ms/step - loss: 1.1581 - accuracy: 0.5626 - val_loss: 1.1293 - val_accuracy: 0.5747\n",
      "Epoch 12/25\n",
      "449/449 [==============================] - 406s 905ms/step - loss: 1.1268 - accuracy: 0.5741 - val_loss: 1.1295 - val_accuracy: 0.5723\n",
      "Epoch 13/25\n",
      "449/449 [==============================] - 195s 435ms/step - loss: 1.1161 - accuracy: 0.5787 - val_loss: 1.3102 - val_accuracy: 0.4933\n",
      "Epoch 14/25\n",
      "449/449 [==============================] - 187s 417ms/step - loss: 1.1043 - accuracy: 0.5850 - val_loss: 1.0639 - val_accuracy: 0.6066\n",
      "Epoch 15/25\n",
      "449/449 [==============================] - 106s 236ms/step - loss: 1.0869 - accuracy: 0.5896 - val_loss: 1.2446 - val_accuracy: 0.5265\n",
      "Epoch 16/25\n",
      "449/449 [==============================] - 148s 330ms/step - loss: 1.0718 - accuracy: 0.5958 - val_loss: 1.1169 - val_accuracy: 0.5766\n",
      "Epoch 17/25\n",
      "449/449 [==============================] - 114s 255ms/step - loss: 1.0612 - accuracy: 0.6025 - val_loss: 1.0977 - val_accuracy: 0.5914\n",
      "Epoch 18/25\n",
      "449/449 [==============================] - 84s 187ms/step - loss: 1.0506 - accuracy: 0.6013 - val_loss: 1.1357 - val_accuracy: 0.5723\n",
      "Epoch 19/25\n",
      "449/449 [==============================] - 102s 227ms/step - loss: 1.0379 - accuracy: 0.6092 - val_loss: 1.1391 - val_accuracy: 0.5741\n",
      "Epoch 20/25\n",
      "449/449 [==============================] - 115s 257ms/step - loss: 1.0356 - accuracy: 0.6071 - val_loss: 1.0610 - val_accuracy: 0.6024\n",
      "Epoch 21/25\n",
      "449/449 [==============================] - 86s 192ms/step - loss: 1.0280 - accuracy: 0.6121 - val_loss: 1.0553 - val_accuracy: 0.6115\n",
      "Epoch 22/25\n",
      "449/449 [==============================] - 85s 189ms/step - loss: 1.0127 - accuracy: 0.6172 - val_loss: 1.0463 - val_accuracy: 0.6130\n",
      "Epoch 23/25\n",
      "449/449 [==============================] - 86s 192ms/step - loss: 1.0077 - accuracy: 0.6260 - val_loss: 1.0799 - val_accuracy: 0.5939\n",
      "Epoch 24/25\n",
      "449/449 [==============================] - 241s 537ms/step - loss: 1.0000 - accuracy: 0.6248 - val_loss: 1.0642 - val_accuracy: 0.6013\n",
      "Epoch 25/25\n",
      "449/449 [==============================] - 84s 187ms/step - loss: 0.9861 - accuracy: 0.6293 - val_loss: 1.1285 - val_accuracy: 0.5837\n",
      "225/225 - 5s - loss: 1.1285 - accuracy: 0.5837 - 5s/epoch - 23ms/step\n",
      "Test Accuracy: 0.58\n"
     ]
    }
   ],
   "source": [
    "import tensorflow as tf\n",
    "from tensorflow.keras.models import Sequential\n",
    "from tensorflow.keras.layers import Conv2D, MaxPooling2D, Flatten, Dense, Dropout, BatchNormalization\n",
    "from tensorflow.keras.optimizers import Adam\n",
    "\n",
    "# Model architecture\n",
    "model = Sequential([\n",
    "    # First Convolutional Block\n",
    "    Conv2D(32, (3, 3), activation='relu', input_shape=(48, 48, 1)),\n",
    "    BatchNormalization(),\n",
    "    MaxPooling2D((2, 2)),\n",
    "    Dropout(0.25),\n",
    "\n",
    "    # Second Convolutional Block\n",
    "    Conv2D(64, (3, 3), activation='relu'),\n",
    "    BatchNormalization(),\n",
    "    MaxPooling2D((2, 2)),\n",
    "    Dropout(0.25),\n",
    "\n",
    "    # Third Convolutional Block\n",
    "    Conv2D(128, (3, 3), activation='relu'),\n",
    "    BatchNormalization(),\n",
    "    MaxPooling2D((2, 2)),\n",
    "    Dropout(0.4),\n",
    "\n",
    "    # Fully Connected Layers\n",
    "    Flatten(),\n",
    "    Dense(128, activation='relu'),\n",
    "    BatchNormalization(),\n",
    "    Dropout(0.5),\n",
    "    Dense(7, activation='softmax')  # 7 classes for the emotions\n",
    "])\n",
    "\n",
    "# Compile the model\n",
    "model.compile(optimizer=Adam(learning_rate=0.001),\n",
    "              loss='sparse_categorical_crossentropy',\n",
    "              metrics=['accuracy'])\n",
    "\n",
    "# Model Summary\n",
    "model.summary()\n",
    "\n",
    "# Data reshaping and normalization\n",
    "X_train = X_train[..., np.newaxis]  # Add channel dimension\n",
    "X_test = X_test[..., np.newaxis]\n",
    "\n",
    "# Training the model\n",
    "history = model.fit(\n",
    "    X_train, y_train,\n",
    "    validation_data=(X_test, y_test),\n",
    "    epochs=25,\n",
    "    batch_size=64,\n",
    "    verbose=1\n",
    ")\n",
    "\n",
    "# Evaluate the model\n",
    "test_loss, test_accuracy = model.evaluate(X_test, y_test, verbose=2)\n",
    "print(f\"Test Accuracy: {test_accuracy:.2f}\")\n"
   ]
  },
  {
   "cell_type": "markdown",
   "metadata": {},
   "source": [
    "VISUALIZATION"
   ]
  },
  {
   "cell_type": "code",
   "execution_count": 82,
   "metadata": {},
   "outputs": [
    {
     "data": {
      "image/png": "[encoded data removed]",
      "text/plain": [
       "<Figure size 1200x400 with 2 Axes>"
      ]
     },
     "metadata": {},
     "output_type": "display_data"
    }
   ],
   "source": [
    "import matplotlib.pyplot as plt\n",
    "\n",
    "# Plot training and validation accuracy/loss\n",
    "plt.figure(figsize=(12, 4))\n",
    "\n",
    "# Accuracy\n",
    "plt.subplot(1, 2, 1)\n",
    "plt.plot(history.history['accuracy'], label='Train Accuracy')\n",
    "plt.plot(history.history['val_accuracy'], label='Validation Accuracy')\n",
    "plt.title('Accuracy')\n",
    "plt.xlabel('Epoch')\n",
    "plt.ylabel('Accuracy')\n",
    "plt.legend()\n",
    "\n",
    "# Loss\n",
    "plt.subplot(1, 2, 2)\n",
    "plt.plot(history.history['loss'], label='Train Loss')\n",
    "plt.plot(history.history['val_loss'], label='Validation Loss')\n",
    "plt.title('Loss')\n",
    "plt.xlabel('Epoch')\n",
    "plt.ylabel('Loss')\n",
    "plt.legend()\n",
    "\n",
    "plt.tight_layout()\n",
    "plt.show()\n"
   ]
  },
  {
   "cell_type": "code",
   "execution_count": 83,
   "metadata": {},
   "outputs": [
    {
     "data": {
      "image/png": "[encoded data removed]",
      "text/plain": [
       "<Figure size 1400x400 with 2 Axes>"
      ]
     },
     "metadata": {},
     "output_type": "display_data"
    }
   ],
   "source": [
    "df_accu = pd.DataFrame({'train': history.history['accuracy'], 'valid': history.history['val_accuracy']})\n",
    "df_loss = pd.DataFrame({'train': history.history['loss'], 'valid': history.history['val_loss']})\n",
    "\n",
    "fig = plt.figure(0, (14, 4))\n",
    "ax = plt.subplot(1, 2, 1)\n",
    "sns.violinplot(x=\"variable\", y=\"value\", data=pd.melt(df_accu), showfliers=False)\n",
    "plt.title('Accuracy')\n",
    "plt.tight_layout()\n",
    "\n",
    "ax = plt.subplot(1, 2, 2)\n",
    "sns.violinplot(x=\"variable\", y=\"value\", data=pd.melt(df_loss), showfliers=False)\n",
    "plt.title('Loss')\n",
    "plt.tight_layout()\n",
    "\n",
    "plt.savefig('performance_dist.png')\n",
    "plt.show()"
   ]
  },
  {
   "cell_type": "code",
   "execution_count": 84,
   "metadata": {},
   "outputs": [
    {
     "name": "stdout",
     "output_type": "stream",
     "text": [
      "Requirement already satisfied: scikit-plot in c:\\users\\91739\\appdata\\local\\programs\\python\\python37\\lib\\site-packages (0.3.7)\n",
      "Requirement already satisfied: matplotlib>=1.4.0 in c:\\users\\91739\\appdata\\local\\programs\\python\\python37\\lib\\site-packages (from scikit-plot) (3.5.3)\n",
      "Requirement already satisfied: scikit-learn>=0.18 in c:\\users\\91739\\appdata\\local\\programs\\python\\python37\\lib\\site-packages (from scikit-plot) (1.0.2)\n",
      "Requirement already satisfied: scipy>=0.9 in c:\\users\\91739\\appdata\\local\\programs\\python\\python37\\lib\\site-packages (from scikit-plot) (1.7.3)\n",
      "Requirement already satisfied: joblib>=0.10 in c:\\users\\91739\\appdata\\local\\programs\\python\\python37\\lib\\site-packages (from scikit-plot) (1.3.2)\n",
      "Requirement already satisfied: cycler>=0.10 in c:\\users\\91739\\appdata\\local\\programs\\python\\python37\\lib\\site-packages (from matplotlib>=1.4.0->scikit-plot) (0.11.0)\n",
      "Requirement already satisfied: fonttools>=4.22.0 in c:\\users\\91739\\appdata\\local\\programs\\python\\python37\\lib\\site-packages (from matplotlib>=1.4.0->scikit-plot) (4.38.0)\n",
      "Requirement already satisfied: kiwisolver>=1.0.1 in c:\\users\\91739\\appdata\\local\\programs\\python\\python37\\lib\\site-packages (from matplotlib>=1.4.0->scikit-plot) (1.4.5)\n",
      "Requirement already satisfied: numpy>=1.17 in c:\\users\\91739\\appdata\\local\\programs\\python\\python37\\lib\\site-packages (from matplotlib>=1.4.0->scikit-plot) (1.21.6)\n",
      "Requirement already satisfied: packaging>=20.0 in c:\\users\\91739\\appdata\\local\\programs\\python\\python37\\lib\\site-packages (from matplotlib>=1.4.0->scikit-plot) (23.2)\n",
      "Requirement already satisfied: pillow>=6.2.0 in c:\\users\\91739\\appdata\\local\\programs\\python\\python37\\lib\\site-packages (from matplotlib>=1.4.0->scikit-plot) (9.5.0)\n",
      "Requirement already satisfied: pyparsing>=2.2.1 in c:\\users\\91739\\appdata\\local\\programs\\python\\python37\\lib\\site-packages (from matplotlib>=1.4.0->scikit-plot) (3.1.4)\n",
      "Requirement already satisfied: python-dateutil>=2.7 in c:\\users\\91739\\appdata\\local\\programs\\python\\python37\\lib\\site-packages (from matplotlib>=1.4.0->scikit-plot) (2.9.0.post0)\n",
      "Requirement already satisfied: threadpoolctl>=2.0.0 in c:\\users\\91739\\appdata\\local\\programs\\python\\python37\\lib\\site-packages (from scikit-learn>=0.18->scikit-plot) (3.1.0)\n",
      "Requirement already satisfied: typing-extensions in c:\\users\\91739\\appdata\\local\\programs\\python\\python37\\lib\\site-packages (from kiwisolver>=1.0.1->matplotlib>=1.4.0->scikit-plot) (4.7.1)\n",
      "Requirement already satisfied: six>=1.5 in c:\\users\\91739\\appdata\\local\\programs\\python\\python37\\lib\\site-packages (from python-dateutil>=2.7->matplotlib>=1.4.0->scikit-plot) (1.16.0)\n",
      "Note: you may need to restart the kernel to use updated packages.\n"
     ]
    }
   ],
   "source": [
    "pip install scikit-plot\n"
   ]
  },
  {
   "cell_type": "code",
   "execution_count": 85,
   "metadata": {},
   "outputs": [
    {
     "name": "stdout",
     "output_type": "stream",
     "text": [
      "y_test shape: (7178,)\n"
     ]
    }
   ],
   "source": [
    "print(f\"y_test shape: {y_test.shape}\")\n"
   ]
  },
  {
   "cell_type": "code",
   "execution_count": 86,
   "metadata": {},
   "outputs": [
    {
     "name": "stdout",
     "output_type": "stream",
     "text": [
      "225/225 [==============================] - 3s 14ms/step\n"
     ]
    },
    {
     "data": {
      "image/png": "[encoded data removed]",
      "text/plain": [
       "<Figure size 640x480 with 2 Axes>"
      ]
     },
     "metadata": {},
     "output_type": "display_data"
    },
    {
     "name": "stdout",
     "output_type": "stream",
     "text": [
      "Total wrong validation predictions: 2988\n",
      "\n",
      "Classification Report:\n",
      "\n",
      "              precision    recall  f1-score   support\n",
      "\n",
      "         0.0       0.63      0.37      0.47       985\n",
      "         1.0       0.78      0.34      0.48       102\n",
      "         2.0       0.60      0.18      0.27      1043\n",
      "         3.0       0.71      0.86      0.78      1765\n",
      "         4.0       0.45      0.74      0.56      1278\n",
      "         5.0       0.45      0.49      0.47      1210\n",
      "         6.0       0.76      0.70      0.73       795\n",
      "\n",
      "    accuracy                           0.58      7178\n",
      "   macro avg       0.63      0.52      0.54      7178\n",
      "weighted avg       0.60      0.58      0.56      7178\n",
      "\n"
     ]
    }
   ],
   "source": [
    "import numpy as np\n",
    "from sklearn.metrics import confusion_matrix, ConfusionMatrixDisplay, classification_report\n",
    "import matplotlib.pyplot as plt\n",
    "\n",
    "# Predict labels for the test set\n",
    "yhat_valid = np.argmax(model.predict(X_test), axis=1)  # Ensure predictions are label-encoded\n",
    "\n",
    "# Compute confusion matrix\n",
    "cm = confusion_matrix(y_test, yhat_valid)\n",
    "\n",
    "# Display confusion matrix\n",
    "disp = ConfusionMatrixDisplay(confusion_matrix=cm)\n",
    "disp.plot(cmap=plt.cm.Blues)\n",
    "plt.title(\"Confusion Matrix\")\n",
    "plt.show()\n",
    "\n",
    "# Count misclassifications\n",
    "total_wrong = np.sum(y_test != yhat_valid)\n",
    "print(f\"Total wrong validation predictions: {total_wrong}\\n\")\n",
    "\n",
    "# Print classification report\n",
    "print(\"Classification Report:\\n\")\n",
    "print(classification_report(y_test, yhat_valid))\n"
   ]
  },
  {
   "cell_type": "code",
   "execution_count": 87,
   "metadata": {},
   "outputs": [
    {
     "name": "stdout",
     "output_type": "stream",
     "text": [
      "Model saved successfully.\n"
     ]
    }
   ],
   "source": [
    "# Save the trained model\n",
    "model.save(\"sentiment_analysis_model.h5\")\n",
    "print(\"Model saved successfully.\")\n"
   ]
  },
  {
   "cell_type": "code",
   "execution_count": 1,
   "metadata": {},
   "outputs": [
    {
     "name": "stdout",
     "output_type": "stream",
     "text": [
      "Model loaded for deployment.\n"
     ]
    }
   ],
   "source": [
    "from tensorflow.keras.models import load_model\n",
    "\n",
    "# Load the saved model\n",
    "deployed_model = load_model(\"sentiment_analysis_model.h5\")\n",
    "print(\"Model loaded for deployment.\")\n"
   ]
  },
  {
   "cell_type": "markdown",
   "metadata": {},
   "source": [
    " 0: 'anger',\n",
    "    1: 'disgust',\n",
    "    2: 'fear',\n",
    "    3: 'happiness',\n",
    "    4: 'sadness',\n",
    "    5: 'surprise',\n",
    "    6: 'neutral'"
   ]
  },
  {
   "cell_type": "code",
   "execution_count": 4,
   "metadata": {},
   "outputs": [
    {
     "name": "stdout",
     "output_type": "stream",
     "text": [
      "1/1 [==============================] - 0s 43ms/step\n",
      "Predicted class index: 0\n",
      "Class probabilities: [[0.32892627 0.01121664 0.21184175 0.03723343 0.13404763 0.16352546\n",
      "  0.11320887]]\n"
     ]
    }
   ],
   "source": [
    "import numpy as np\n",
    "\n",
    "# Example function for prediction\n",
    "def predict_emotion(image_path, model):\n",
    "    from tensorflow.keras.preprocessing import image\n",
    "    img = image.load_img(image_path, target_size=(48, 48), color_mode='grayscale')\n",
    "    img_array = image.img_to_array(img)\n",
    "    img_array = np.expand_dims(img_array, axis=0)\n",
    "    img_array /= 255.0  # Normalize\n",
    "\n",
    "    predictions = model.predict(img_array)\n",
    "    class_index = np.argmax(predictions)\n",
    "    return class_index, predictions\n",
    "\n",
    "# Predict emotion for a sample image\n",
    "class_index, predictions = predict_emotion(\"revanth.jpeg\", deployed_model)\n",
    "print(f\"Predicted class index: {class_index}\")\n",
    "print(f\"Class probabilities: {predictions}\")\n"
   ]
  }
 ],
 "metadata": {
  "kernelspec": {
   "display_name": "Python 3",
   "language": "python",
   "name": "python3"
  },
  "language_info": {
   "codemirror_mode": {
    "name": "ipython",
    "version": 3
   },
   "file_extension": ".py",
   "mimetype": "text/x-python",
   "name": "python",
   "nbconvert_exporter": "python",
   "pygments_lexer": "ipython3",
   "version": "3.7.6"
  }
 },
 "nbformat": 4,
 "nbformat_minor": 2
}
